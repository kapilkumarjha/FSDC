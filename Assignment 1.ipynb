{
 "cells": [
  {
   "cell_type": "markdown",
   "metadata": {},
   "source": [
    "1. In the below elements which of them are values or an expression? eg:- values can be\n",
    "integer or string and expressions will be mathematical operators."
   ]
  },
  {
   "cell_type": "raw",
   "metadata": {},
   "source": [
    "Values - 'hello',-87.8,6\n",
    "Expressions -> +,*,-,/"
   ]
  },
  {
   "cell_type": "markdown",
   "metadata": {},
   "source": [
    "2. What is the difference between string and variable?"
   ]
  },
  {
   "cell_type": "raw",
   "metadata": {},
   "source": [
    "String is a text or character which is enclosed in single or double quotation.\n",
    "Variable, is store the value in the memory location."
   ]
  },
  {
   "cell_type": "markdown",
   "metadata": {},
   "source": [
    "3. Describe three different data types."
   ]
  },
  {
   "cell_type": "raw",
   "metadata": {},
   "source": [
    "Integer is a whole number. ex-23,43,56\n",
    "Floating Number->Number with decimal point. ex-3.14,56.6,78.56\n",
    "Boolean- it representing logical values. ex-True,False"
   ]
  },
  {
   "cell_type": "markdown",
   "metadata": {},
   "source": [
    "4. What is an expression made up of? What do all expressions do?"
   ]
  },
  {
   "cell_type": "raw",
   "metadata": {},
   "source": [
    "An expression is an instruction that combines values & operators & evaluates to a single value."
   ]
  },
  {
   "cell_type": "markdown",
   "metadata": {},
   "source": [
    "5. This assignment statements, like spam = 10. What is the difference between an expression and a statement?"
   ]
  },
  {
   "cell_type": "raw",
   "metadata": {},
   "source": [
    "An expression evaluates a single value.\n",
    "Statement does not."
   ]
  },
  {
   "cell_type": "markdown",
   "metadata": {},
   "source": [
    "6. After running the following code, what does the variable bacon contain?\n",
    "bacon = 22\n",
    "   \n",
    "   bacon + 1"
   ]
  },
  {
   "cell_type": "raw",
   "metadata": {},
   "source": [
    "23"
   ]
  },
  {
   "cell_type": "markdown",
   "metadata": {},
   "source": [
    "7. What should the values of the following two terms be?\n",
    "'spam' + 'spamspam'\n",
    "'spam'*3\n"
   ]
  },
  {
   "cell_type": "raw",
   "metadata": {},
   "source": [
    "'spam'+'spamspam'---> 'spamspamspam'\n",
    "'spam'*3 ---> 'spamspamspam'"
   ]
  },
  {
   "cell_type": "markdown",
   "metadata": {},
   "source": [
    "8.Why is eggs a valid variable name while 100 is invalid?"
   ]
  },
  {
   "cell_type": "raw",
   "metadata": {},
   "source": [
    "Because variable name can't begin with a number."
   ]
  },
  {
   "cell_type": "markdown",
   "metadata": {},
   "source": [
    "9.What three functions can be used to get the integer, floating-point number, or string\n",
    "version of a value?"
   ]
  },
  {
   "cell_type": "raw",
   "metadata": {},
   "source": [
    "The int(), float() and str() functions will evaluate to the integer, floating number and string versions of the value passed to them."
   ]
  },
  {
   "cell_type": "markdown",
   "metadata": {},
   "source": [
    "10. Why does this expression cause an error? How can you fix it?\n",
    "'I have eaten'+99+'burritos'."
   ]
  },
  {
   "cell_type": "raw",
   "metadata": {},
   "source": [
    "because 99 is an integer and strings can be concatenated to other strings.So convert 99 into string.\n",
    "'I have eaten'+str(99)+'burritos'"
   ]
  },
  {
   "cell_type": "code",
   "execution_count": null,
   "metadata": {},
   "outputs": [],
   "source": []
  }
 ],
 "metadata": {
  "kernelspec": {
   "display_name": "Python 3",
   "language": "python",
   "name": "python3"
  },
  "language_info": {
   "codemirror_mode": {
    "name": "ipython",
    "version": 3
   },
   "file_extension": ".py",
   "mimetype": "text/x-python",
   "name": "python",
   "nbconvert_exporter": "python",
   "pygments_lexer": "ipython3",
   "version": "3.8.5"
  }
 },
 "nbformat": 4,
 "nbformat_minor": 4
}
