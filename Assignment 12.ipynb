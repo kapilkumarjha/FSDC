{
 "cells": [
  {
   "cell_type": "markdown",
   "id": "limited-emission",
   "metadata": {},
   "source": [
    "1. In what modes should the PdfFileReader() and PdfFileWriter() File objects will be opened?"
   ]
  },
  {
   "cell_type": "raw",
   "id": "younger-carpet",
   "metadata": {},
   "source": [
    "Read-binary ('rb') for PdfFileReader() and write-binary ('wb') for PdfFileWriter()"
   ]
  },
  {
   "cell_type": "markdown",
   "id": "everyday-tissue",
   "metadata": {},
   "source": [
    "2. From a PdfFileReader object, how do you get a Page object for page 5?"
   ]
  },
  {
   "cell_type": "raw",
   "id": "polish-motel",
   "metadata": {},
   "source": [
    "You can get a Page object by calling the getPage() method on a PdfFileReader object and passing it the page number of the page.Since page 0 is the first page. \n",
    "\n",
    "Ex-pdfFileReader.getPage(4)"
   ]
  },
  {
   "cell_type": "markdown",
   "id": "wireless-guatemala",
   "metadata": {},
   "source": [
    "3. What PdfFileReader variable stores the number of pages in the PDF document?"
   ]
  },
  {
   "cell_type": "raw",
   "id": "sweet-liverpool",
   "metadata": {},
   "source": [
    "The numPages variable stores an integer of the number of pages in the PdfFileReader object."
   ]
  },
  {
   "cell_type": "markdown",
   "id": "stuck-durham",
   "metadata": {},
   "source": [
    "4. If a PdfFileReader object’s PDF is encrypted with the password swordfish, what must you do\n",
    "before you can obtain Page objects from it?"
   ]
  },
  {
   "cell_type": "raw",
   "id": "imposed-republican",
   "metadata": {},
   "source": [
    "decrypt('swordfish')"
   ]
  },
  {
   "cell_type": "markdown",
   "id": "adjacent-usage",
   "metadata": {},
   "source": [
    "5. What methods do you use to rotate a page?"
   ]
  },
  {
   "cell_type": "raw",
   "id": "decreased-victorian",
   "metadata": {},
   "source": [
    "rotateClockwise() and rotateCounterClockwise() methods. The degrees to rotate is passed as an integer argument."
   ]
  },
  {
   "cell_type": "markdown",
   "id": "northern-harvest",
   "metadata": {},
   "source": [
    "6. What is the difference between a Run object and a Paragraph object?"
   ]
  },
  {
   "cell_type": "raw",
   "id": "listed-soccer",
   "metadata": {},
   "source": [
    "A document contains multiple paragraphs. \n",
    "A paragraph begins on a new line and contains multiple runs. \n",
    "Runs are contiguous groups of characters within a paragraph."
   ]
  },
  {
   "cell_type": "markdown",
   "id": "lesbian-maria",
   "metadata": {},
   "source": [
    "7. How do you obtain a list of Paragraph objects for a Document object that’s stored in a variable\n",
    "named doc?"
   ]
  },
  {
   "cell_type": "raw",
   "id": "vulnerable-white",
   "metadata": {},
   "source": [
    "doc.paragraphs"
   ]
  },
  {
   "cell_type": "markdown",
   "id": "optimum-opening",
   "metadata": {},
   "source": [
    "8. What type of object has bold, underline, italic, strike, and outline variables?"
   ]
  },
  {
   "cell_type": "code",
   "execution_count": null,
   "id": "rural-wheel",
   "metadata": {},
   "outputs": [],
   "source": [
    "Run object has bold, underline, italic, strike, and outline variables."
   ]
  },
  {
   "cell_type": "markdown",
   "id": "surgical-eight",
   "metadata": {},
   "source": [
    "9. What is the difference between False, True, and None for the bold variable?"
   ]
  },
  {
   "cell_type": "raw",
   "id": "compound-virus",
   "metadata": {},
   "source": [
    "False makes it always not bolded, no matter what the style’s bold setting is. \n",
    "True makes the Run object bolded.\n",
    "None will make the Run object just use the style’s bold setting.\n",
    "\n",
    "font.bold, font.italic(None, None)\n",
    "\n",
    "font.italic = True\n",
    "font.italic\n",
    "True\n",
    "\n",
    "font.italic = False\n",
    "font.italic\n",
    "False\n",
    "\n",
    "font.italic = None\n",
    "font.italic"
   ]
  },
  {
   "cell_type": "markdown",
   "id": "damaged-future",
   "metadata": {},
   "source": [
    "10. How do you create a Document object for a new Word document?"
   ]
  },
  {
   "cell_type": "code",
   "execution_count": null,
   "id": "russian-handle",
   "metadata": {},
   "outputs": [],
   "source": [
    "By docx.Document() function."
   ]
  },
  {
   "cell_type": "markdown",
   "id": "combined-nightmare",
   "metadata": {},
   "source": [
    "11. How do you add a paragraph with the text &#39;Hello, there!&#39; to a Document object stored in a\n",
    "variable named doc?"
   ]
  },
  {
   "cell_type": "raw",
   "id": "elder-plain",
   "metadata": {},
   "source": [
    "doc.add_paragraph('Hello there!')"
   ]
  },
  {
   "cell_type": "markdown",
   "id": "dimensional-resort",
   "metadata": {},
   "source": [
    "12. What integers represent the levels of headings available in Word documents?"
   ]
  },
  {
   "cell_type": "code",
   "execution_count": null,
   "id": "convenient-fairy",
   "metadata": {},
   "outputs": [],
   "source": [
    "Heading level 0\n",
    "Heading level 1\n",
    "Heading level 2\n",
    "Heading level 3\n",
    "Heading level 4"
   ]
  },
  {
   "cell_type": "code",
   "execution_count": null,
   "id": "becoming-ceiling",
   "metadata": {},
   "outputs": [],
   "source": []
  }
 ],
 "metadata": {
  "kernelspec": {
   "display_name": "Python 3",
   "language": "python",
   "name": "python3"
  },
  "language_info": {
   "codemirror_mode": {
    "name": "ipython",
    "version": 3
   },
   "file_extension": ".py",
   "mimetype": "text/x-python",
   "name": "python",
   "nbconvert_exporter": "python",
   "pygments_lexer": "ipython3",
   "version": "3.7.1"
  }
 },
 "nbformat": 4,
 "nbformat_minor": 5
}
