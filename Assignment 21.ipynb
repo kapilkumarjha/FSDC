{
 "cells": [
  {
   "cell_type": "markdown",
   "id": "prime-sewing",
   "metadata": {},
   "source": [
    "1. Add the current date to the text file today.txt as a string."
   ]
  },
  {
   "cell_type": "code",
   "execution_count": 1,
   "id": "automatic-bernard",
   "metadata": {},
   "outputs": [
    {
     "data": {
      "text/plain": [
       "'2022-08-04'"
      ]
     },
     "execution_count": 1,
     "metadata": {},
     "output_type": "execute_result"
    }
   ],
   "source": [
    "import datetime\n",
    "from datetime import date\n",
    "now = date.today()\n",
    "cur_date = now.isoformat()\n",
    "cur_date"
   ]
  },
  {
   "cell_type": "markdown",
   "id": "painful-solid",
   "metadata": {},
   "source": [
    "2. Read the text file today.txt into the string today_string"
   ]
  },
  {
   "cell_type": "code",
   "execution_count": 2,
   "id": "intended-structure",
   "metadata": {},
   "outputs": [],
   "source": [
    "with open('today.txt','w') as file:\n",
    "    file.write(cur_date)"
   ]
  },
  {
   "cell_type": "markdown",
   "id": "handled-literacy",
   "metadata": {},
   "source": [
    "3. Parse the date from today_string."
   ]
  },
  {
   "cell_type": "code",
   "execution_count": 4,
   "id": "sudden-wings",
   "metadata": {},
   "outputs": [
    {
     "data": {
      "text/plain": [
       "datetime.datetime(2022, 8, 4, 0, 0)"
      ]
     },
     "execution_count": 4,
     "metadata": {},
     "output_type": "execute_result"
    }
   ],
   "source": [
    "from datetime import datetime\n",
    "format = '%Y-%m-%d'\n",
    "datetime.strptime(today_string,format)"
   ]
  },
  {
   "cell_type": "markdown",
   "id": "opened-experiment",
   "metadata": {},
   "source": [
    "4. List the files in your current directory"
   ]
  },
  {
   "cell_type": "code",
   "execution_count": 10,
   "id": "strong-cache",
   "metadata": {},
   "outputs": [
    {
     "data": {
      "text/plain": [
       "['.bash_history',\n",
       " '.conda',\n",
       " '.condarc',\n",
       " '.gitconfig',\n",
       " '.idlerc',\n",
       " '.ipynb_checkpoints',\n",
       " '.ipython',\n",
       " '.jupyter',\n",
       " '.matplotlib',\n",
       " '.vscode',\n",
       " '12 JUNE 22.ipynb',\n",
       " '14 MAY 22.ipynb',\n",
       " '15 MAY 22.ipynb',\n",
       " '18 JUNE 22.ipynb',\n",
       " '21 MAY 22.ipynb',\n",
       " '22 MAY 22.ipynb',\n",
       " '24 JULY 22.ipynb',\n",
       " '28 MAY 22.ipynb',\n",
       " '29 MAY 22.ipynb',\n",
       " '30 JUNE 22.ipynb',\n",
       " '3D Objects',\n",
       " '5 JUNE 22.ipynb',\n",
       " 'AppData',\n",
       " 'Application Data',\n",
       " 'Assignment 1.ipynb',\n",
       " 'Assignment 10.ipynb',\n",
       " 'Assignment 11.ipynb',\n",
       " 'Assignment 12.ipynb',\n",
       " 'Assignment 13.ipynb',\n",
       " 'Assignment 14.ipynb',\n",
       " 'Assignment 15.ipynb',\n",
       " 'Assignment 16.ipynb',\n",
       " 'Assignment 17.ipynb',\n",
       " 'Assignment 18.ipynb',\n",
       " 'Assignment 19.ipynb',\n",
       " 'Assignment 2.ipynb',\n",
       " 'Assignment 20.ipynb',\n",
       " 'Assignment 21.ipynb',\n",
       " 'Assignment 22.ipynb',\n",
       " 'Assignment 3.ipynb',\n",
       " 'Assignment 4.ipynb',\n",
       " 'Assignment 5.ipynb',\n",
       " 'Assignment 6.ipynb',\n",
       " 'Assignment 7.ipynb',\n",
       " 'Assignment 8.ipynb',\n",
       " 'Assignment 9.ipynb',\n",
       " 'books.csv',\n",
       " 'books.db',\n",
       " 'Contacts',\n",
       " 'Cookies',\n",
       " 'countries.csv',\n",
       " 'Desktop',\n",
       " 'Documents',\n",
       " 'Downloads',\n",
       " 'Favorites',\n",
       " 'FSDC SQL Task1.ipynb',\n",
       " 'FSDC Task 1, 2 and 3.ipynb',\n",
       " 'FSDC Task1 for OOPS.ipynb',\n",
       " 'harry task1.py',\n",
       " 'harry task2.py',\n",
       " 'harry task3.py',\n",
       " 'harry task4.py',\n",
       " 'harry task5.py',\n",
       " 'harry task6.py',\n",
       " 'harry task7.py',\n",
       " 'hello.py',\n",
       " 'house_price.ipynb',\n",
       " 'IntelGraphicsProfiles',\n",
       " 'Jovian tut 1 assgnmnt.ipynb',\n",
       " 'Jovian tut 3 assignment.ipynb',\n",
       " 'jovian tut 6 assignment .ipynb',\n",
       " 'Links',\n",
       " 'Local Settings',\n",
       " 'Microsoft',\n",
       " 'Music',\n",
       " 'My Documents',\n",
       " 'NetHood',\n",
       " 'NTUSER.DAT',\n",
       " 'ntuser.dat.LOG1',\n",
       " 'ntuser.dat.LOG2',\n",
       " 'NTUSER.DAT{378a4887-1b13-11eb-89da-c8e2656af10c}.TM.blf',\n",
       " 'NTUSER.DAT{378a4887-1b13-11eb-89da-c8e2656af10c}.TMContainer00000000000000000001.regtrans-ms',\n",
       " 'NTUSER.DAT{378a4887-1b13-11eb-89da-c8e2656af10c}.TMContainer00000000000000000002.regtrans-ms',\n",
       " 'NTUSER.DAT{a761c2db-1218-11ed-8a48-c8e2656af108}.TM.blf',\n",
       " 'NTUSER.DAT{a761c2db-1218-11ed-8a48-c8e2656af108}.TMContainer00000000000000000001.regtrans-ms',\n",
       " 'NTUSER.DAT{a761c2db-1218-11ed-8a48-c8e2656af108}.TMContainer00000000000000000002.regtrans-ms',\n",
       " 'ntuser.ini',\n",
       " 'Nuvoretail Assignment.ipynb',\n",
       " 'OneDrive',\n",
       " 'PrintHood',\n",
       " 'Programming Assignment 1.ipynb',\n",
       " 'Programming Assignment 2.ipynb',\n",
       " 'Programming Assignment 3.ipynb',\n",
       " 'Programming Assignment 4.ipynb',\n",
       " 'Programming Assignment 5.ipynb',\n",
       " 'Project.ipynb',\n",
       " 'PycharmProjects',\n",
       " 'README_2020.txt',\n",
       " 'Recent',\n",
       " 'Saved Games',\n",
       " 'Searches',\n",
       " 'SendTo',\n",
       " 'Start Menu',\n",
       " 'survey_results_public.csv',\n",
       " 'survey_results_schema.csv',\n",
       " 'Templates',\n",
       " 'test.test',\n",
       " 'test.txt',\n",
       " 'today.txt',\n",
       " 'Untitled.ipynb',\n",
       " 'Videos']"
      ]
     },
     "execution_count": 10,
     "metadata": {},
     "output_type": "execute_result"
    }
   ],
   "source": [
    "import os\n",
    "os.listdir('.')"
   ]
  },
  {
   "cell_type": "markdown",
   "id": "circular-perry",
   "metadata": {},
   "source": [
    "5. Create a list of all of the files in your parent directory (minimum five files should be available)."
   ]
  },
  {
   "cell_type": "code",
   "execution_count": null,
   "id": "cubic-medicine",
   "metadata": {},
   "outputs": [],
   "source": [
    "list = ['Assignment 1.ipynb','Assignment 10.ipynb','Assignment 11.ipynb','Assignment 12.ipynb','Assignment 13.ipynb']"
   ]
  },
  {
   "cell_type": "markdown",
   "id": "polished-spring",
   "metadata": {},
   "source": [
    "6. Use multiprocessing to create three separate processes. Make each one wait a random number of\n",
    "seconds between one and five, print the current time, and then exit."
   ]
  },
  {
   "cell_type": "code",
   "execution_count": 11,
   "id": "changing-religious",
   "metadata": {},
   "outputs": [],
   "source": [
    "import multiprocessing\n",
    "\n",
    "def printsec(seconds):\n",
    "    from datetime import datetime\n",
    "    from time import sleep\n",
    "    sleep(seconds)\n",
    "    print('wait', seconds, 'seconds, time is', datetime.utcnow())\n",
    "    \n",
    "if __name__ == '__main__':\n",
    "    import random    \n",
    "    for n in range(3):\n",
    "        seconds = random.random()\n",
    "        proc = multiprocessing.Process(target=printsec, args=(seconds,))\n",
    "        proc.start()"
   ]
  },
  {
   "cell_type": "code",
   "execution_count": 25,
   "id": "lyric-celebrity",
   "metadata": {},
   "outputs": [
    {
     "name": "stdout",
     "output_type": "stream",
     "text": [
      "wait 0.36158741865324795 seconds, time is 2022-08-05 06:34:47.211866\n",
      "wait 0.49054015021014474 seconds, time is 2022-08-05 06:34:47.332921\n",
      "wait 0.8590689366875423 seconds, time is 2022-08-05 06:34:47.716210\n"
     ]
    }
   ],
   "source": [
    "!python hello.py"
   ]
  },
  {
   "cell_type": "markdown",
   "id": "sticky-politics",
   "metadata": {},
   "source": [
    "7. Create a date object of your day of birth."
   ]
  },
  {
   "cell_type": "code",
   "execution_count": 18,
   "id": "breeding-estimate",
   "metadata": {},
   "outputs": [
    {
     "data": {
      "text/plain": [
       "datetime.date(1995, 10, 11)"
      ]
     },
     "execution_count": 18,
     "metadata": {},
     "output_type": "execute_result"
    }
   ],
   "source": [
    "my_dob = date(1995,10,11)\n",
    "my_dob"
   ]
  },
  {
   "cell_type": "markdown",
   "id": "passing-bhutan",
   "metadata": {},
   "source": [
    "8. What day of the week was your day of birth?"
   ]
  },
  {
   "cell_type": "code",
   "execution_count": 20,
   "id": "adequate-invasion",
   "metadata": {},
   "outputs": [
    {
     "data": {
      "text/plain": [
       "2"
      ]
     },
     "execution_count": 20,
     "metadata": {},
     "output_type": "execute_result"
    }
   ],
   "source": [
    "my_dob.weekday()"
   ]
  },
  {
   "cell_type": "markdown",
   "id": "incoming-minutes",
   "metadata": {},
   "source": [
    "9. When will you be (or when were you) 10,000 days old?"
   ]
  },
  {
   "cell_type": "code",
   "execution_count": 21,
   "id": "incomplete-factor",
   "metadata": {},
   "outputs": [
    {
     "data": {
      "text/plain": [
       "datetime.date(2023, 2, 26)"
      ]
     },
     "execution_count": 21,
     "metadata": {},
     "output_type": "execute_result"
    }
   ],
   "source": [
    "from datetime import timedelta\n",
    "day10000 = my_dob + timedelta(days=10000)\n",
    "day10000"
   ]
  },
  {
   "cell_type": "code",
   "execution_count": null,
   "id": "fitted-fundamental",
   "metadata": {},
   "outputs": [],
   "source": []
  }
 ],
 "metadata": {
  "kernelspec": {
   "display_name": "Python 3",
   "language": "python",
   "name": "python3"
  },
  "language_info": {
   "codemirror_mode": {
    "name": "ipython",
    "version": 3
   },
   "file_extension": ".py",
   "mimetype": "text/x-python",
   "name": "python",
   "nbconvert_exporter": "python",
   "pygments_lexer": "ipython3",
   "version": "3.7.1"
  }
 },
 "nbformat": 4,
 "nbformat_minor": 5
}
