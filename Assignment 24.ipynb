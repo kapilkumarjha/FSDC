{
 "cells": [
  {
   "cell_type": "markdown",
   "id": "organizational-variation",
   "metadata": {},
   "source": [
    "1. What is the relationship between def statements and lambda expressions ?"
   ]
  },
  {
   "cell_type": "raw",
   "id": "dirty-hierarchy",
   "metadata": {},
   "source": [
    "def keyword is used to define a function.\n",
    "\n",
    "lambda expressions are utilized to construct anonymous functions.\n",
    "you will use the lambda keyword (just as you use def to define normal functions)"
   ]
  },
  {
   "cell_type": "markdown",
   "id": "moved-publicity",
   "metadata": {},
   "source": [
    "2. What is the benefit of lambda?"
   ]
  },
  {
   "cell_type": "raw",
   "id": "double-detector",
   "metadata": {},
   "source": [
    "lambda is written in a single line of code and can also be invoked immediately."
   ]
  },
  {
   "cell_type": "markdown",
   "id": "adjustable-compact",
   "metadata": {},
   "source": [
    "3. Compare and contrast map, filter, and reduce."
   ]
  },
  {
   "cell_type": "raw",
   "id": "constitutional-semiconductor",
   "metadata": {},
   "source": [
    "Map- The map() function iterates through all items in the given iterable and executes the function we passed as an argument on each of them.We can pass as many iterable objects as we want after passing the function we want to use.\n",
    "\n",
    "Filter- Similar to map(),filter() takes a function object and an iterable and creates a new list.\n",
    "As the name suggests, filter() forms a new list that contains only elements that satisfy a certain condition, i.e. the function we passed returns True\n",
    "\n",
    "reduce- reduce() works differently than map() and filter(). It does not return a new list based on the function and iterable we've passed. Instead, it returns a single value."
   ]
  },
  {
   "cell_type": "markdown",
   "id": "local-keeping",
   "metadata": {},
   "source": [
    "4. What are function annotations, and how are they used?"
   ]
  },
  {
   "cell_type": "raw",
   "id": "stable-bottle",
   "metadata": {},
   "source": [
    "Function annotations are arbitrary python expressions that are associated with various part of functions. These expressions are evaluated at compile time and have no life in python’s runtime environment.\n",
    "The benefits from function annotations can only be reaped via third party libraries. The type of benefits depends upon the type of the library.\n",
    "\n",
    "Example-\n",
    "\n",
    "Python supports dynamic typing and hence no module is provided for type checking. Annotations like\n",
    "\n",
    "[def foo(a:”int”, b:”float”=5.0)  -> ”int”]\n",
    "\n",
    "it can be used to collect information about the type of the parameters and the return type of the function to keep track of the type change occurring in the function. ‘mypy’ is one such library."
   ]
  },
  {
   "cell_type": "markdown",
   "id": "treated-lingerie",
   "metadata": {},
   "source": [
    "5. What are recursive functions, and how are they used?"
   ]
  },
  {
   "cell_type": "code",
   "execution_count": null,
   "id": "martial-sally",
   "metadata": {},
   "outputs": [],
   "source": [
    "A recursive function is a function in code that refers to itself for execution."
   ]
  },
  {
   "cell_type": "code",
   "execution_count": 2,
   "id": "adopted-thesaurus",
   "metadata": {},
   "outputs": [
    {
     "data": {
      "text/plain": [
       "24"
      ]
     },
     "execution_count": 2,
     "metadata": {},
     "output_type": "execute_result"
    }
   ],
   "source": [
    "def fact(x):\n",
    "    if x == 1 :\n",
    "        return 1\n",
    "    else :\n",
    "        return x * fact(x-1) \n",
    "    \n",
    "fact(4)"
   ]
  },
  {
   "cell_type": "markdown",
   "id": "statutory-birthday",
   "metadata": {},
   "source": [
    "6. What are some general design guidelines for coding functions?"
   ]
  },
  {
   "cell_type": "raw",
   "id": "incorrect-destination",
   "metadata": {},
   "source": [
    "Use 4-space indentation and no tabs.\n",
    "Use docstrings.\n",
    "Wrap lines so that they don’t exceed 79 characters.\n",
    "Use of regular and updated comments are valuable to both the coders and users.\n",
    "Use spaces around operators and after commas, but not directly inside bracketing constructs.\n",
    "Naming Conventions.\n",
    "Characters that should not be used for identifiers.\n",
    "While naming of function of methods always use self for the first argument."
   ]
  },
  {
   "cell_type": "markdown",
   "id": "experienced-token",
   "metadata": {},
   "source": [
    "7. Name three or more ways that functions can communicate results to a caller."
   ]
  },
  {
   "cell_type": "raw",
   "id": "arbitrary-exhaust",
   "metadata": {},
   "source": [
    "function object\n",
    "class object\n",
    "return"
   ]
  },
  {
   "cell_type": "code",
   "execution_count": null,
   "id": "postal-special",
   "metadata": {},
   "outputs": [],
   "source": []
  },
  {
   "cell_type": "code",
   "execution_count": null,
   "id": "foster-utilization",
   "metadata": {},
   "outputs": [],
   "source": []
  },
  {
   "cell_type": "code",
   "execution_count": null,
   "id": "standard-pierre",
   "metadata": {},
   "outputs": [],
   "source": []
  }
 ],
 "metadata": {
  "kernelspec": {
   "display_name": "Python 3",
   "language": "python",
   "name": "python3"
  },
  "language_info": {
   "codemirror_mode": {
    "name": "ipython",
    "version": 3
   },
   "file_extension": ".py",
   "mimetype": "text/x-python",
   "name": "python",
   "nbconvert_exporter": "python",
   "pygments_lexer": "ipython3",
   "version": "3.7.1"
  }
 },
 "nbformat": 4,
 "nbformat_minor": 5
}
