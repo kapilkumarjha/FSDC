{
 "cells": [
  {
   "cell_type": "markdown",
   "metadata": {},
   "source": [
    "1. What exactly is []?"
   ]
  },
  {
   "cell_type": "raw",
   "metadata": {},
   "source": [
    "empty list which have no items."
   ]
  },
  {
   "cell_type": "markdown",
   "metadata": {},
   "source": [
    "2. In a list of values stored in a variable called spam, how would you assign the value &#39;hello&#39; as the\n",
    "third value? (Assume [2, 4, 6, 8, 10] are in spam.)"
   ]
  },
  {
   "cell_type": "raw",
   "metadata": {},
   "source": [
    "spam[2]= \"hello\""
   ]
  },
  {
   "cell_type": "markdown",
   "metadata": {},
   "source": [
    "Let&#39;s pretend the spam includes the list [&#39;a&#39;, &#39;b&#39;, &#39;c&#39;, &#39;d&#39;] for the next three queries.\n",
    "\n",
    "3. What is the value of spam[int(int(&#39;3&#39; * 2) / 11)]?"
   ]
  },
  {
   "cell_type": "raw",
   "metadata": {},
   "source": [
    "'d'"
   ]
  },
  {
   "cell_type": "markdown",
   "metadata": {},
   "source": [
    "4. What is the value of spam[-1]?"
   ]
  },
  {
   "cell_type": "raw",
   "metadata": {},
   "source": [
    "'d'"
   ]
  },
  {
   "cell_type": "markdown",
   "metadata": {},
   "source": [
    "5. What is the value of spam[:2]?"
   ]
  },
  {
   "cell_type": "raw",
   "metadata": {},
   "source": [
    "['a','b']"
   ]
  },
  {
   "cell_type": "markdown",
   "metadata": {},
   "source": [
    "Let&#39;s pretend bacon has the list [3.14,'cat', 11,'cat',True] for the next three questions.\n",
    "\n",
    "6. What is the value of bacon.index(&#39;cat&#39;)?"
   ]
  },
  {
   "cell_type": "raw",
   "metadata": {},
   "source": [
    "1"
   ]
  },
  {
   "cell_type": "markdown",
   "metadata": {},
   "source": [
    "7. How does bacon.append(99) change the look of the list value in bacon?"
   ]
  },
  {
   "cell_type": "raw",
   "metadata": {},
   "source": [
    "[3.14, 'cat', 11, 'cat', True, 99]"
   ]
  },
  {
   "cell_type": "markdown",
   "metadata": {},
   "source": [
    "8. How does bacon.remove(&#39;cat&#39;) change the look of the list in bacon?"
   ]
  },
  {
   "cell_type": "raw",
   "metadata": {},
   "source": [
    "[3.14, 11, 'cat', True]"
   ]
  },
  {
   "cell_type": "markdown",
   "metadata": {},
   "source": [
    "9. What are the list concatenation and list replication operators?"
   ]
  },
  {
   "cell_type": "raw",
   "metadata": {},
   "source": [
    "The operator for list concatenation is +.\n",
    "\n",
    "for example- consider two list\n",
    "a=[1,2,3]\n",
    "b=[4,5,6]\n",
    "c=a+b\n",
    "print(c)\n",
    "output-[1,2,3,4,5,6]\n",
    "\n",
    "####################################\n",
    "\n",
    "The operator for replication is *.\n",
    "\n",
    "for example-\n",
    "a=[1,2,3]\n",
    "d = a*3\n",
    "print(d)\n",
    "output-[1, 2, 3, 1, 2, 3, 1, 2, 3]"
   ]
  },
  {
   "cell_type": "markdown",
   "metadata": {},
   "source": [
    "10. What is difference between the list methods append() and insert()?"
   ]
  },
  {
   "cell_type": "raw",
   "metadata": {},
   "source": [
    "append() will add values only to the end of a list. \n",
    "\n",
    "Example-\n",
    "a=[4,5,6]\n",
    "a.append(2) ##here 2 is the value that want to store in list.\n",
    "print(a)\n",
    "output-[4, 5, 6, 2]\n",
    "\n",
    "####################################################\n",
    "\n",
    "insert() can add them anywhere in the list.\n",
    "\n",
    "Example-\n",
    "a=[4,5,6]\n",
    "a.insert(0,2) ##here 0 is the index number and 2 is the value that want to store in list.\n",
    "print(a)\n",
    "output-[2, 4, 5, 6]"
   ]
  },
  {
   "cell_type": "markdown",
   "metadata": {},
   "source": [
    "11. What are the two methods for removing items from a list?"
   ]
  },
  {
   "cell_type": "raw",
   "metadata": {},
   "source": [
    "1.remove()\n",
    "\n",
    "Example- \n",
    "list = [\"ram\",4,5,6,\"shyam\",4,5,6]\n",
    "list.remove(5) ## here 5 value is given to remove from list\n",
    "print(list)\n",
    "output-['ram', 4, 6, 'shyam', 4, 5, 6]\n",
    " \n",
    "########################################\n",
    "\n",
    "2.pop()\n",
    "\n",
    "Example- \n",
    "list = [\"ram\",4,5,6,\"shyam\",4,5,6]\n",
    "list.pop(5) ##here index is given to pop value from list\n",
    "print(list)\n",
    "output-['ram', 4, 5, 6, 'shyam', 5, 6]\n",
    "\n",
    "############################################\n",
    "\n",
    "3.del()\n",
    "\n",
    "Example- \n",
    "list = [\"ram\",4,5,6,\"shyam\",4,5,6]\n",
    "del list[1:4] ##here index is given to dlt value from list\n",
    "print(list)\n",
    "output-['ram','shyam', 4, 5, 6]"
   ]
  },
  {
   "cell_type": "markdown",
   "metadata": {},
   "source": [
    "12. Describe how list values and string values are identical."
   ]
  },
  {
   "cell_type": "raw",
   "metadata": {},
   "source": [
    "The similarity between Lists and Strings in Python is that both are sequences. \n",
    "Lists are mutable but Strings are immutable. \n",
    "elements of a list can be of different types whereas a String only contains characters that are all of String type."
   ]
  },
  {
   "cell_type": "markdown",
   "metadata": {},
   "source": [
    "13. What&#39;s the difference between tuples and lists?"
   ]
  },
  {
   "cell_type": "raw",
   "metadata": {},
   "source": [
    "Lists are mutable and written in the square bracket[  ].\n",
    "Tuples are immutable,tuples are written using parentheses( )."
   ]
  },
  {
   "cell_type": "markdown",
   "metadata": {},
   "source": [
    "14. How do you type a tuple value that only contains the integer 42?"
   ]
  },
  {
   "cell_type": "raw",
   "metadata": {},
   "source": [
    "(42,)"
   ]
  },
  {
   "cell_type": "markdown",
   "metadata": {},
   "source": [
    "15. How do you get a list value&#39;s tuple form? How do you get a tuple value&#39;s list form?"
   ]
  },
  {
   "cell_type": "raw",
   "metadata": {},
   "source": [
    "The tuple() and list() functions\n",
    "\n",
    "##Method 1 syntex-[(tuple1),(tuple2),(tuple3),..,(tuple n)]##\n",
    "Example-college name with roll_number\n",
    "\n",
    "data = [(1, 'yogesh'), (2, 'rahul'), (3, 'bobby'),(4, 'ramesh')]\n",
    "\n",
    "print(data)\n",
    "\n",
    "output-[(1, 'yogesh'), (2, 'rahul'), (3, 'bobby'), (4, 'ramesh')]\n",
    "\n",
    "##Method 2:using zip() function syntex list(zip(list1,list2,.,listn)##\n",
    "\n"
   ]
  },
  {
   "cell_type": "markdown",
   "metadata": {},
   "source": [
    "16. Variables that &quot;contain&quot; list values are not necessarily lists themselves. Instead, what do they\n",
    "contain?"
   ]
  },
  {
   "cell_type": "raw",
   "metadata": {},
   "source": [
    "They contain references to list values."
   ]
  },
  {
   "cell_type": "markdown",
   "metadata": {},
   "source": [
    "17. How do you distinguish between copy.copy() and copy.deepcopy()?"
   ]
  },
  {
   "cell_type": "raw",
   "metadata": {},
   "source": [
    "The copy.copy() function will do a shallow copy of a list.\n",
    "while the copy.deepcopy() function will do a deep copy of a list. That is, only copy.deepcopy() will duplicate any lists inside the list."
   ]
  }
 ],
 "metadata": {
  "kernelspec": {
   "display_name": "Python 3",
   "language": "python",
   "name": "python3"
  },
  "language_info": {
   "codemirror_mode": {
    "name": "ipython",
    "version": 3
   },
   "file_extension": ".py",
   "mimetype": "text/x-python",
   "name": "python",
   "nbconvert_exporter": "python",
   "pygments_lexer": "ipython3",
   "version": "3.8.5"
  }
 },
 "nbformat": 4,
 "nbformat_minor": 4
}
