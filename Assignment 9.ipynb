{
 "cells": [
  {
   "cell_type": "markdown",
   "id": "impressive-profession",
   "metadata": {},
   "source": [
    "1. To what does a relative path refer?"
   ]
  },
  {
   "cell_type": "raw",
   "id": "polish-banner",
   "metadata": {},
   "source": [
    "Relative paths is related to the present working directory."
   ]
  },
  {
   "cell_type": "markdown",
   "id": "popular-producer",
   "metadata": {},
   "source": [
    "2. What does an absolute path start with your operating system?"
   ]
  },
  {
   "cell_type": "raw",
   "id": "assumed-tuition",
   "metadata": {},
   "source": [
    "Absolute paths start with the root folder, such as / or C:\\"
   ]
  },
  {
   "cell_type": "markdown",
   "id": "portuguese-powell",
   "metadata": {},
   "source": [
    "3. What do the functions os.getcwd() and os.chdir() do?"
   ]
  },
  {
   "cell_type": "raw",
   "id": "miniature-occurrence",
   "metadata": {},
   "source": [
    "The os.getcwd() function returns the current working directory. The os.chdir() function changes the current working directory."
   ]
  },
  {
   "cell_type": "markdown",
   "id": "equivalent-disposal",
   "metadata": {},
   "source": [
    "4. What are the . and .. folders?"
   ]
  },
  {
   "cell_type": "raw",
   "id": "sustained-contrast",
   "metadata": {},
   "source": [
    "The . folder is the current folder.\n",
    "The .. is the parent folder."
   ]
  },
  {
   "cell_type": "markdown",
   "id": "scientific-quebec",
   "metadata": {},
   "source": [
    "5. In C:\\bacon\\eggs\\spam.txt, which part is the dir name, and which part is the base name?"
   ]
  },
  {
   "cell_type": "raw",
   "id": "tender-recruitment",
   "metadata": {},
   "source": [
    "C:\\bacon\\eggs is the dir name and \n",
    "spam.txt is the base name"
   ]
  },
  {
   "cell_type": "markdown",
   "id": "empirical-marker",
   "metadata": {},
   "source": [
    "6. What are the three “mode” arguments that can be passed to the open() function?"
   ]
  },
  {
   "cell_type": "raw",
   "id": "hybrid-flavor",
   "metadata": {},
   "source": [
    "'r' for read mode \n",
    "'w' for write mode\n",
    "'a' for append mode."
   ]
  },
  {
   "cell_type": "markdown",
   "id": "stunning-batch",
   "metadata": {},
   "source": [
    "7. What happens if an existing file is opened in write mode?"
   ]
  },
  {
   "cell_type": "raw",
   "id": "disciplinary-mailman",
   "metadata": {},
   "source": [
    "An existing file opened in write mode is erased and completely overwritten."
   ]
  },
  {
   "cell_type": "markdown",
   "id": "local-graduate",
   "metadata": {},
   "source": [
    "8. How do you tell the difference between read() and readlines()?"
   ]
  },
  {
   "cell_type": "raw",
   "id": "caring-release",
   "metadata": {},
   "source": [
    "The read() method returns the entire file’s contents as a single string value. \n",
    "The readlines() method returns a list of strings, where each string is a line from the file’s contents."
   ]
  },
  {
   "cell_type": "markdown",
   "id": "worth-jenny",
   "metadata": {},
   "source": [
    "What data structure does a shelf value resemble?"
   ]
  },
  {
   "cell_type": "raw",
   "id": "aerial-sleep",
   "metadata": {},
   "source": [
    "A shelf value resembles a dictionary value; it has keys and values, along with keys() and values() methods that work similarly to the dictionary methods of the same names."
   ]
  },
  {
   "cell_type": "code",
   "execution_count": null,
   "id": "vietnamese-harbor",
   "metadata": {},
   "outputs": [],
   "source": []
  }
 ],
 "metadata": {
  "kernelspec": {
   "display_name": "Python 3",
   "language": "python",
   "name": "python3"
  },
  "language_info": {
   "codemirror_mode": {
    "name": "ipython",
    "version": 3
   },
   "file_extension": ".py",
   "mimetype": "text/x-python",
   "name": "python",
   "nbconvert_exporter": "python",
   "pygments_lexer": "ipython3",
   "version": "3.7.1"
  }
 },
 "nbformat": 4,
 "nbformat_minor": 5
}
