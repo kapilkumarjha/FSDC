{
 "cells": [
  {
   "cell_type": "markdown",
   "metadata": {},
   "source": [
    "1. Write a Python program to print \"Hello Python\"?"
   ]
  },
  {
   "cell_type": "code",
   "execution_count": 3,
   "metadata": {},
   "outputs": [
    {
     "name": "stdout",
     "output_type": "stream",
     "text": [
      "Hello Python\n"
     ]
    }
   ],
   "source": [
    "print(\"Hello Python\")"
   ]
  },
  {
   "cell_type": "markdown",
   "metadata": {},
   "source": [
    "2. Write a Python program to do arithmetical operations addition and division.?"
   ]
  },
  {
   "cell_type": "code",
   "execution_count": 1,
   "metadata": {},
   "outputs": [
    {
     "name": "stdout",
     "output_type": "stream",
     "text": [
      "enter a first number:20\n",
      "enter a second number:5\n",
      "enter the operator to perform calculate two no.: +,/:/\n",
      "the division of two number: 4.0\n"
     ]
    }
   ],
   "source": [
    "num1 = float(input(\"enter a first number:\"))\n",
    "num2 = float(input(\"enter a second number:\"))\n",
    "op = input(\"enter the operator to perform calculate two no.: +,/:\")\n",
    "if op==\"+\":\n",
    "    print(\"the sum of two number:\",num1+num2)\n",
    "elif op==\"/\":\n",
    "    print(\"the division of two number:\",num1/num2)\n",
    "else:\n",
    "    print(\"other task can not perform\")"
   ]
  },
  {
   "cell_type": "markdown",
   "metadata": {},
   "source": [
    "3. Write a Python program to find the area of a triangle?"
   ]
  },
  {
   "cell_type": "code",
   "execution_count": 3,
   "metadata": {},
   "outputs": [
    {
     "name": "stdout",
     "output_type": "stream",
     "text": [
      "Enter the first number to calculate area of triangle: 3.0\n",
      "Enter the second number to calculate area of triangle:2\n",
      "the area of triangle is: 3.0\n"
     ]
    }
   ],
   "source": [
    "num1 = float(input(\"Enter the first number to calculate area of triangle: \"))\n",
    "num2 = float(input(\"Enter the second number to calculate area of triangle:\"))\n",
    "area = (num1*num2)/2\n",
    "print(\"the area of triangle is:\",area)"
   ]
  },
  {
   "cell_type": "markdown",
   "metadata": {},
   "source": [
    "4. Write a Python program to swap two variables?"
   ]
  },
  {
   "cell_type": "code",
   "execution_count": 6,
   "metadata": {},
   "outputs": [
    {
     "name": "stdout",
     "output_type": "stream",
     "text": [
      "Enter the first input to swap: 3\n",
      "Enter the second input to swap:4\n",
      "after swapping 4\n",
      "after swapping 3\n"
     ]
    }
   ],
   "source": [
    "x = input(\"Enter the first input to swap: \")\n",
    "y = input(\"Enter the second input to swap:\")\n",
    "swap = x\n",
    "x = y\n",
    "y = swap\n",
    "print(\"after swapping\",x)\n",
    "print(\"after swapping\",y)"
   ]
  },
  {
   "cell_type": "markdown",
   "metadata": {},
   "source": [
    "5. Write a Python program to generate a random number?"
   ]
  },
  {
   "cell_type": "code",
   "execution_count": 9,
   "metadata": {},
   "outputs": [
    {
     "name": "stdout",
     "output_type": "stream",
     "text": [
      "11\n"
     ]
    }
   ],
   "source": [
    "import random\n",
    "n = random.randint(0,20)\n",
    "print(n)"
   ]
  },
  {
   "cell_type": "code",
   "execution_count": null,
   "metadata": {},
   "outputs": [],
   "source": []
  }
 ],
 "metadata": {
  "kernelspec": {
   "display_name": "Python 3",
   "language": "python",
   "name": "python3"
  },
  "language_info": {
   "codemirror_mode": {
    "name": "ipython",
    "version": 3
   },
   "file_extension": ".py",
   "mimetype": "text/x-python",
   "name": "python",
   "nbconvert_exporter": "python",
   "pygments_lexer": "ipython3",
   "version": "3.8.5"
  }
 },
 "nbformat": 4,
 "nbformat_minor": 4
}
