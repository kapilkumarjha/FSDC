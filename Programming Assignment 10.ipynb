{
 "cells": [
  {
   "cell_type": "markdown",
   "id": "b1929f95",
   "metadata": {},
   "source": [
    "1. Write a Python program to find sum of elements in list?"
   ]
  },
  {
   "cell_type": "code",
   "execution_count": 4,
   "id": "51959752",
   "metadata": {},
   "outputs": [
    {
     "name": "stdout",
     "output_type": "stream",
     "text": [
      "How many numbers in the list: 4\n",
      "Enter the numbers in the list: 1\n",
      "Enter the numbers in the list: 2\n",
      "Enter the numbers in the list: 3\n",
      "Enter the numbers in the list: 4\n",
      "the sum of list is: 10\n"
     ]
    }
   ],
   "source": [
    "def sum_list(lst,size):\n",
    "    sums = 0\n",
    "    for i in range(len(lst)):\n",
    "        sums = sums + lst[i]\n",
    "    return sums\n",
    "\n",
    "lst=[]\n",
    "size=int(input(\"How many numbers in the list: \"))\n",
    "for i in range(size):\n",
    "    numbers=int(input(\"Enter the numbers in the list: \"))\n",
    "    lst.append(numbers)\n",
    "print(\"the sum of list is:\",sum_list(lst,size))"
   ]
  },
  {
   "cell_type": "markdown",
   "id": "3f6f0b90",
   "metadata": {},
   "source": [
    "2. Write a Python program to Multiply all numbers in the list?"
   ]
  },
  {
   "cell_type": "code",
   "execution_count": 5,
   "id": "0b38e8f1",
   "metadata": {},
   "outputs": [
    {
     "name": "stdout",
     "output_type": "stream",
     "text": [
      "How many numbers in the list: 4\n",
      "Enter the numbers in the list: 1\n",
      "Enter the numbers in the list: 2\n",
      "Enter the numbers in the list: 3\n",
      "Enter the numbers in the list: 4\n",
      "the multiplication of list is: 24\n"
     ]
    }
   ],
   "source": [
    "def mul_list(lst,size):\n",
    "    result = 1\n",
    "    for i in range(len(lst)):\n",
    "        result = result * lst[i]\n",
    "    return result\n",
    "lst = []\n",
    "size = int(input(\"How many numbers in the list: \"))\n",
    "for i in range(size):\n",
    "    numbers = int(input(\"Enter the numbers in the list: \")) \n",
    "    lst.append(numbers)\n",
    "print(\"the multiplication of list is:\",mul_list(lst,size))"
   ]
  },
  {
   "cell_type": "markdown",
   "id": "2afd0217",
   "metadata": {},
   "source": [
    "3. Write a Python program to find smallest number in a list?"
   ]
  },
  {
   "cell_type": "code",
   "execution_count": 6,
   "id": "681dab3e",
   "metadata": {},
   "outputs": [
    {
     "name": "stdout",
     "output_type": "stream",
     "text": [
      "How many numbers in the list: 4\n",
      "Enter the numbers in the list: 23\n",
      "Enter the numbers in the list: 4\n",
      "Enter the numbers in the list: 1\n",
      "Enter the numbers in the list: 5\n",
      "minimum number in the list is: 1\n"
     ]
    }
   ],
   "source": [
    "def min_list(lst,size):\n",
    "    mini = lst[0]\n",
    "    for i in range(len(lst)):\n",
    "        if lst[i]<mini:\n",
    "            mini = lst[i]\n",
    "    return mini\n",
    "lst = []\n",
    "size = int(input(\"How many numbers in the list: \"))\n",
    "for i in range(size):\n",
    "    numbers = int(input(\"Enter the numbers in the list: \")) \n",
    "    lst.append(numbers)\n",
    "print(\"minimum number in the list is:\",min_list(lst,size))"
   ]
  },
  {
   "cell_type": "markdown",
   "id": "e1f428ef",
   "metadata": {},
   "source": [
    "4. Write a Python program to find largest number in a list?"
   ]
  },
  {
   "cell_type": "code",
   "execution_count": 7,
   "id": "e1e7393d",
   "metadata": {},
   "outputs": [
    {
     "name": "stdout",
     "output_type": "stream",
     "text": [
      "How many numbers in the list: 4\n",
      "Enter the numbers in the list: 99\n",
      "Enter the numbers in the list: 10\n",
      "Enter the numbers in the list: 9\n",
      "Enter the numbers in the list: 4\n",
      "maximum number in the list is: 99\n"
     ]
    }
   ],
   "source": [
    "def max_list(lst,size):\n",
    "    maxx = lst[0]\n",
    "    for i in range(len(lst)):\n",
    "        if lst[i]>maxx:\n",
    "            maxx = lst[i]\n",
    "    return maxx\n",
    "lst = []\n",
    "size = int(input(\"How many numbers in the list: \"))\n",
    "for i in range(size):\n",
    "    numbers = int(input(\"Enter the numbers in the list: \")) \n",
    "    lst.append(numbers)\n",
    "print(\"maximum number in the list is:\",max_list(lst,size))"
   ]
  },
  {
   "cell_type": "markdown",
   "id": "23ca9fef",
   "metadata": {},
   "source": [
    "5. Write a Python program to find second largest number in a list?"
   ]
  },
  {
   "cell_type": "code",
   "execution_count": 8,
   "id": "ef1ba271",
   "metadata": {},
   "outputs": [
    {
     "name": "stdout",
     "output_type": "stream",
     "text": [
      "How many numbers in the list: 4\n",
      "Enter the numbers in the list: 12\n",
      "Enter the numbers in the list: 45\n",
      "Enter the numbers in the list: 1\n",
      "Enter the numbers in the list: 9\n",
      "second largest number in the list is: 12\n"
     ]
    }
   ],
   "source": [
    "def second_Largest_num(lst,size):\n",
    "    secondLargest = 0\n",
    "    largest = min(lst)  #Here min is built in function\n",
    "\n",
    "    for i in range(len(lst)):\n",
    "        if lst[i] > largest:\n",
    "            secondLargest = largest\n",
    "            largest = lst[i]\n",
    "        else:\n",
    "            secondLargest = max(secondLargest, lst[i]) #Here max is built in function\n",
    "    return secondLargest\n",
    "lst = []\n",
    "size = int(input(\"How many numbers in the list: \"))\n",
    "for i in range(size):\n",
    "    numbers = int(input(\"Enter the numbers in the list: \")) \n",
    "    lst.append(numbers)\n",
    "print(\"second largest number in the list is:\",second_Largest_num(lst,size))"
   ]
  },
  {
   "cell_type": "markdown",
   "id": "69f0f2ad",
   "metadata": {},
   "source": [
    "6. Write a Python program to find N largest elements from a list?"
   ]
  },
  {
   "cell_type": "code",
   "execution_count": 11,
   "id": "d9cf8cf3",
   "metadata": {},
   "outputs": [
    {
     "name": "stdout",
     "output_type": "stream",
     "text": [
      "How many numbers in the list: 7\n",
      "Enter the numbers in the list: 12\n",
      "Enter the numbers in the list: 242\n",
      "Enter the numbers in the list: 42\n",
      "Enter the numbers in the list: 345\n",
      "Enter the numbers in the list: 242\n",
      "Enter the numbers in the list: 53\n",
      "Enter the numbers in the list: 13\n",
      "How many maximun number you want print in the list: 5\n",
      "N maximun number in the list is: [345, 242, 242, 53, 42]\n"
     ]
    }
   ],
   "source": [
    "def N_max_element(lst,N,size):\n",
    "    final_list = []\n",
    "    for i in range(0,N):\n",
    "        maxx = 0\n",
    "        for j in range(len(lst)):\n",
    "            if lst[j]>maxx:\n",
    "                maxx = lst[j]\n",
    "        lst.remove(maxx)\n",
    "        final_list.append(maxx)\n",
    "    return final_list\n",
    "lst = []\n",
    "size = int(input(\"How many numbers in the list: \"))\n",
    "for i in range(size):\n",
    "    numbers = int(input(\"Enter the numbers in the list: \")) \n",
    "    lst.append(numbers)\n",
    "N = int(input(\"How many maximun number you want print in the list: \"))\n",
    "print(\"N maximun number in the list is:\",N_max_element(lst,N,size))     "
   ]
  },
  {
   "cell_type": "markdown",
   "id": "c6ced79b",
   "metadata": {},
   "source": [
    "7. Write a Python program to print even numbers in a list?"
   ]
  },
  {
   "cell_type": "code",
   "execution_count": 29,
   "id": "d0bfd16e",
   "metadata": {},
   "outputs": [
    {
     "name": "stdout",
     "output_type": "stream",
     "text": [
      "How many numbers in the list: 4\n",
      "Enter the numbers in the list: 12\n",
      "Enter the numbers in the list: 1\n",
      "Enter the numbers in the list: 2\n",
      "Enter the numbers in the list: 4\n",
      "Even number in the list is: [12, 2, 4]\n"
     ]
    }
   ],
   "source": [
    "def even_list(lst,size):\n",
    "    new_list = []\n",
    "    for i in range(len(lst)):\n",
    "        if lst[i]%2 == 0:\n",
    "            new_list.append(lst[i])\n",
    "    return new_list\n",
    "\n",
    "lst = []\n",
    "size = int(input(\"How many numbers in the list: \"))\n",
    "for i in range(size):\n",
    "    numbers = int(input(\"Enter the numbers in the list: \")) \n",
    "    lst.append(numbers)\n",
    "print(\"Even number in the list is:\",even_list(lst,size))     \n",
    "\n",
    "##################################### OR #####################################################\n",
    "# def even_list(lst):\n",
    "#     new_list=[]\n",
    "#     for i in lst:\n",
    "#         if i%2==0:\n",
    "#             new_list.append(i)\n",
    "#     return new_list\n",
    "\n",
    "# li=[]\n",
    "# size =int(input(\"Enter size of list \"))\n",
    "# for i in range(0,size):\n",
    "#     numbers =int(input(\"Enter element of list \"))\n",
    "#     li.append(numbers)\n",
    "\n",
    "# print(\"Even numbers in \",li)\n",
    "# print(even(li))"
   ]
  },
  {
   "cell_type": "markdown",
   "id": "af15b164",
   "metadata": {},
   "source": [
    "8. Write a Python program to print odd numbers in a List?"
   ]
  },
  {
   "cell_type": "code",
   "execution_count": 31,
   "id": "b8357c6e",
   "metadata": {},
   "outputs": [
    {
     "name": "stdout",
     "output_type": "stream",
     "text": [
      "How many numbers in the list: 4\n",
      "Enter the numbers in the list: 1\n",
      "Enter the numbers in the list: 3\n",
      "Enter the numbers in the list: 24\n",
      "Enter the numbers in the list: 11\n",
      "odd number in the list is: [1, 3, 11]\n"
     ]
    }
   ],
   "source": [
    "def odd_list(lst,size):\n",
    "    new_list = []\n",
    "    for i in range(len(lst)):\n",
    "        if lst[i] %2 != 0:\n",
    "            new_list.append(lst[i])\n",
    "    return new_list\n",
    "\n",
    "lst = []\n",
    "size = int(input(\"How many numbers in the list: \"))\n",
    "for i in range(size):\n",
    "    numbers = int(input(\"Enter the numbers in the list: \")) \n",
    "    lst.append(numbers)\n",
    "print(\"odd number in the list is:\",odd_list(lst,size))     "
   ]
  },
  {
   "cell_type": "markdown",
   "id": "8f7bb795",
   "metadata": {},
   "source": [
    "9. Write a Python program to Remove empty List from List?"
   ]
  },
  {
   "cell_type": "code",
   "execution_count": 34,
   "id": "60dbf080",
   "metadata": {},
   "outputs": [
    {
     "name": "stdout",
     "output_type": "stream",
     "text": [
      "The original list is : [11, 9, [], 3, [], [], 19]\n",
      "After remove empty list, The List is : [11, 9, 3, 19]\n"
     ]
    }
   ],
   "source": [
    "def remove_empty_list(lst):\n",
    "    new_list = []\n",
    "    for number in lst:\n",
    "        if number:\n",
    "            new_list.append(number)\n",
    "    return new_list\n",
    "\n",
    "lst = [11, 9, [], 3, [], [], 19]\n",
    "print(f\"The original list is : {lst}\")\n",
    "print(f\"After remove empty list, The List is : {remove_empty_list(lst)}\")"
   ]
  },
  {
   "cell_type": "markdown",
   "id": "ed50a2c3",
   "metadata": {},
   "source": [
    "10. Write a Python program to Cloning or Copying a list?"
   ]
  },
  {
   "cell_type": "code",
   "execution_count": 46,
   "id": "fdf58af1",
   "metadata": {},
   "outputs": [
    {
     "name": "stdout",
     "output_type": "stream",
     "text": [
      "How many numbers in the list: 4\n",
      "Enter the numbers in the list: 1\n",
      "Enter the numbers in the list: 2\n",
      "Enter the numbers in the list: 3\n",
      "Enter the numbers in the list: 4\n",
      "original list: [1, 2, 3, 4]\n",
      "After cloning: [1, 2, 3, 4]\n"
     ]
    }
   ],
   "source": [
    "# Using the List copy using =(assignment operator)\n",
    "def clone(lst):\n",
    "    list_copy = lst\n",
    "    return list_copy\n",
    "\n",
    "lst1 = []\n",
    "size = int(input(\"How many numbers in the list: \"))\n",
    "for i in range(size):\n",
    "    numbers = int(input(\"Enter the numbers in the list: \")) \n",
    "    lst1.append(numbers)\n",
    "print(\"original list:\",clone(lst1))\n",
    "lst2 = clone(lst1)\n",
    "print(\"After cloning:\",clone(lst2))"
   ]
  },
  {
   "cell_type": "markdown",
   "id": "221a1b1e",
   "metadata": {},
   "source": [
    "11. Write a Python program to Count occurrences of an element in a list?"
   ]
  },
  {
   "cell_type": "code",
   "execution_count": 2,
   "id": "1b6c5ff6",
   "metadata": {},
   "outputs": [
    {
     "name": "stdout",
     "output_type": "stream",
     "text": [
      "How many numbers in the list: 7\n",
      "Enter the numbers in the list: 1\n",
      "Enter the numbers in the list: 2\n",
      "Enter the numbers in the list: 2\n",
      "Enter the numbers in the list: 2\n",
      "Enter the numbers in the list: 3\n",
      "Enter the numbers in the list: 45\n",
      "Enter the numbers in the list: 3\n",
      "Original list:  [1, 2, 2, 2, 3, 45, 3]\n",
      "Enter element to be checked list: 2\n",
      "2  has occurred  3 times\n"
     ]
    }
   ],
   "source": [
    "def count_occurrence(lst,n):\n",
    "    count = 0\n",
    "    for i in lst:\n",
    "        if (i == n):\n",
    "            count = count + 1\n",
    "    return count\n",
    "\n",
    "li = []\n",
    "n = int(input(\"How many numbers in the list: \"))\n",
    "for i in range(n):\n",
    "    number = int(input(\"Enter the numbers in the list: \"))\n",
    "    li.append(number)\n",
    "\n",
    "print(\"Original list: \", li)\n",
    "x = int(input(\"Enter number to find occurrence: \"))\n",
    "print(x, \" has occurred \", count_occurrence(li,x), \"times\")"
   ]
  },
  {
   "cell_type": "code",
   "execution_count": null,
   "id": "d0f3d4a6",
   "metadata": {},
   "outputs": [],
   "source": []
  },
  {
   "cell_type": "code",
   "execution_count": null,
   "id": "dcb58539",
   "metadata": {},
   "outputs": [],
   "source": []
  },
  {
   "cell_type": "code",
   "execution_count": null,
   "id": "63ff8c09",
   "metadata": {},
   "outputs": [],
   "source": []
  },
  {
   "cell_type": "code",
   "execution_count": null,
   "id": "4e351ac6",
   "metadata": {},
   "outputs": [],
   "source": []
  }
 ],
 "metadata": {
  "kernelspec": {
   "display_name": "Python 3 (ipykernel)",
   "language": "python",
   "name": "python3"
  },
  "language_info": {
   "codemirror_mode": {
    "name": "ipython",
    "version": 3
   },
   "file_extension": ".py",
   "mimetype": "text/x-python",
   "name": "python",
   "nbconvert_exporter": "python",
   "pygments_lexer": "ipython3",
   "version": "3.7.1"
  }
 },
 "nbformat": 4,
 "nbformat_minor": 5
}
