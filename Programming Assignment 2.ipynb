{
 "cells": [
  {
   "cell_type": "markdown",
   "metadata": {},
   "source": [
    "1. Write a Python program to convert kilometers to miles?"
   ]
  },
  {
   "cell_type": "code",
   "execution_count": 1,
   "metadata": {},
   "outputs": [
    {
     "name": "stdout",
     "output_type": "stream",
     "text": [
      "enter the number:2\n",
      "select 1 to convert kilometers to miles:\n",
      "select 2 to convert miles to kilometers:\n",
      "1\n",
      "this is a conversion of kilometers to miles: 1.24274 miles\n"
     ]
    }
   ],
   "source": [
    "num = float(input(\"enter the number:\"))\n",
    "print(\"select 1 to convert kilometers to miles:\")\n",
    "print(\"select 2 to convert miles to kilometers:\")\n",
    "opt = int(input())\n",
    "if opt==1:\n",
    "    mil = num*0.62137\n",
    "    print(\"this is a conversion of kilometers to miles:\", mil,\"miles\")\n",
    "elif opt==2:\n",
    "    km = num*1.609344\n",
    "    print(\"this is a conversion of miles to kilometers:\",km,\"km\")\n",
    "else:\n",
    "    print(\"wrong input\")"
   ]
  },
  {
   "cell_type": "markdown",
   "metadata": {},
   "source": [
    "2. Write a Python program to convert Celsius to Fahrenheit?"
   ]
  },
  {
   "cell_type": "code",
   "execution_count": 2,
   "metadata": {},
   "outputs": [
    {
     "name": "stdout",
     "output_type": "stream",
     "text": [
      "enter the number:20\n",
      "select 1 to convert celsius to fahrenheit:\n",
      "select 2 to convert fahrenheit to celsius:\n",
      "1\n",
      "this is a conversion of celsius to fahrenheit: 68.0 fahrenheit\n"
     ]
    }
   ],
   "source": [
    "num = float(input(\"enter the number:\"))\n",
    "print(\"select 1 to convert celsius to fahrenheit:\")\n",
    "print(\"select 2 to convert fahrenheit to celsius:\")\n",
    "opt = int(input())\n",
    "if opt==1:\n",
    "    fahrenheit = num*(9/5)+32\n",
    "    print(\"this is a conversion of celsius to fahrenheit:\", fahrenheit,\"fahrenheit\")\n",
    "elif opt==2:\n",
    "    celsius = (num-32)*(5/9)\n",
    "    print(\"this is a conversion of fahrenheit to celsius:\",celsius,\"celsius\")\n",
    "else:\n",
    "    print(\"wrong input\")"
   ]
  },
  {
   "cell_type": "markdown",
   "metadata": {},
   "source": [
    "3. Write a Python program to display calendar?"
   ]
  },
  {
   "cell_type": "code",
   "execution_count": 3,
   "metadata": {},
   "outputs": [
    {
     "name": "stdout",
     "output_type": "stream",
     "text": [
      "enter input for month:05\n",
      "enter input for year:2022\n",
      "this show the calendar       May 2022\n",
      "Mo Tu We Th Fr Sa Su\n",
      "                   1\n",
      " 2  3  4  5  6  7  8\n",
      " 9 10 11 12 13 14 15\n",
      "16 17 18 19 20 21 22\n",
      "23 24 25 26 27 28 29\n",
      "30 31\n",
      "\n"
     ]
    }
   ],
   "source": [
    "import calendar\n",
    "mth = int(input(\"enter input for month:\"))\n",
    "year =int(input(\"enter input for year:\"))\n",
    "cal = calendar.month(year,mth)\n",
    "print(\"this show the calendar\",cal)"
   ]
  },
  {
   "cell_type": "markdown",
   "metadata": {},
   "source": [
    "4. Write a Python program to solve quadratic equation?"
   ]
  },
  {
   "cell_type": "code",
   "execution_count": 8,
   "metadata": {},
   "outputs": [
    {
     "name": "stdout",
     "output_type": "stream",
     "text": [
      "enter first number:1\n",
      "enter second number4\n",
      "enter third number2\n",
      "solution of quartic equation (-3.414213562373095+0j)\n",
      "solution of quartic equation (-0.5857864376269049+0j)\n"
     ]
    }
   ],
   "source": [
    "import cmath\n",
    "a = float(input(\"enter first number:\"))\n",
    "b = float(input(\"enter second number\"))\n",
    "c = float(input(\"enter third number\"))\n",
    "\n",
    "eq = (b**2) - (4*a*c)\n",
    "\n",
    "ans1 = (-b-cmath.sqrt(eq))/(2 * a)\n",
    "ans2 = (-b + cmath.sqrt(eq))/(2 * a)\n",
    "\n",
    "print(\"solution of quartic equation\",ans1)\n",
    "print(\"solution of quartic equation\",ans2)"
   ]
  },
  {
   "cell_type": "markdown",
   "metadata": {},
   "source": [
    "5. Write a Python program to swap two variables without temp variable?"
   ]
  },
  {
   "cell_type": "code",
   "execution_count": 5,
   "metadata": {},
   "outputs": [
    {
     "name": "stdout",
     "output_type": "stream",
     "text": [
      "enter first number to swap:3\n",
      "enter second number to swap:9\n",
      "after swapping 9\n",
      "after swapping 3\n"
     ]
    }
   ],
   "source": [
    "a = float(input(\"enter first number to swap:\"))\n",
    "b = float(input(\"enter second number to swap:\"))\n",
    "a,b = b,a\n",
    "print(\"after swapping\",a)\n",
    "print(\"after swapping\",b)"
   ]
  },
  {
   "cell_type": "code",
   "execution_count": null,
   "metadata": {},
   "outputs": [],
   "source": []
  }
 ],
 "metadata": {
  "kernelspec": {
   "display_name": "Python 3",
   "language": "python",
   "name": "python3"
  },
  "language_info": {
   "codemirror_mode": {
    "name": "ipython",
    "version": 3
   },
   "file_extension": ".py",
   "mimetype": "text/x-python",
   "name": "python",
   "nbconvert_exporter": "python",
   "pygments_lexer": "ipython3",
   "version": "3.8.5"
  }
 },
 "nbformat": 4,
 "nbformat_minor": 4
}
