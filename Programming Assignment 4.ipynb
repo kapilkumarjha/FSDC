{
 "cells": [
  {
   "cell_type": "markdown",
   "metadata": {},
   "source": [
    "1. Write a Python Program to Find the Factorial of a Number?"
   ]
  },
  {
   "cell_type": "code",
   "execution_count": 1,
   "metadata": {},
   "outputs": [
    {
     "name": "stdout",
     "output_type": "stream",
     "text": [
      "enter number to get factorial:7\n",
      "factorial is 5040\n"
     ]
    }
   ],
   "source": [
    "num = int(input(\"enter number to get factorial:\"))\n",
    "factorial = 1\n",
    "if num<0:\n",
    "    print(\"negative number of factorial doesn't exit\")\n",
    "elif num==0:\n",
    "    print(\"factorial 0 is 1\")\n",
    "else:\n",
    "    for i in range(1,num+1):\n",
    "        factorial = factorial*i\n",
    "    print(\"factorial is\",factorial)"
   ]
  },
  {
   "cell_type": "markdown",
   "metadata": {},
   "source": [
    "2. Write a Python Program to Display the multiplication Table?"
   ]
  },
  {
   "cell_type": "code",
   "execution_count": 2,
   "metadata": {},
   "outputs": [
    {
     "name": "stdout",
     "output_type": "stream",
     "text": [
      "enter a number for any number of table:6\n",
      "6,12,18,24,30,36,42,48,54,60,"
     ]
    }
   ],
   "source": [
    "num = int(input(\"enter a number for any number of table:\"))\n",
    "for i in range(1,11):\n",
    "    print(num*i,end=\",\")\n",
    "    \n"
   ]
  },
  {
   "cell_type": "markdown",
   "metadata": {},
   "source": [
    "3. Write a Python Program to Print the Fibonacci sequence?"
   ]
  },
  {
   "cell_type": "code",
   "execution_count": 3,
   "metadata": {},
   "outputs": [
    {
     "name": "stdout",
     "output_type": "stream",
     "text": [
      "enter a number to get fibonacci series:8\n",
      "0\n",
      "1\n",
      "1\n",
      "2\n",
      "3\n",
      "5\n",
      "8\n",
      "13\n"
     ]
    }
   ],
   "source": [
    "num = int(input(\"enter a number to get fibonacci series:\"))\n",
    "a=0\n",
    "b=1\n",
    "if num==1:\n",
    "    print(a)\n",
    "elif num<=0:\n",
    "    print(\"enter positive number\")\n",
    "else:\n",
    "    print(a)\n",
    "    print(b)\n",
    "for i in range(2,num):\n",
    "    c=a+b\n",
    "    a=b\n",
    "    b=c\n",
    "    print(c)\n"
   ]
  },
  {
   "cell_type": "markdown",
   "metadata": {},
   "source": [
    "4. Write a Python Program to Check Armstrong Number?"
   ]
  },
  {
   "cell_type": "code",
   "execution_count": 4,
   "metadata": {},
   "outputs": [
    {
     "name": "stdout",
     "output_type": "stream",
     "text": [
      "enter a number to get armstrong numer:153\n",
      "armstrong number\n"
     ]
    }
   ],
   "source": [
    "num = int(input(\"enter a number to get armstrong numer:\"))\n",
    "org = num\n",
    "sum=0\n",
    "while num>0:\n",
    "    sum = sum+(num%10)*(num%10)*(num%10)\n",
    "    num = num//10\n",
    "if org==sum:\n",
    "    print(\"armstrong number\")\n",
    "else:\n",
    "    print(\"not armstrong number\")"
   ]
  },
  {
   "cell_type": "markdown",
   "metadata": {},
   "source": [
    "5. Write a Python Program to Find Armstrong Number in an Interval?"
   ]
  },
  {
   "cell_type": "code",
   "execution_count": 5,
   "metadata": {},
   "outputs": [
    {
     "name": "stdout",
     "output_type": "stream",
     "text": [
      "enter low number to get armstrong number list:10\n",
      "enter high number to get armstrong number list:500\n",
      "153\n",
      "370\n",
      "371\n",
      "407\n"
     ]
    }
   ],
   "source": [
    "low = int(input(\"enter low number to get armstrong number list:\"))\n",
    "high = int(input(\"enter high number to get armstrong number list:\"))\n",
    "for i in range(low,high):\n",
    "    sum=0\n",
    "    org=i\n",
    "    while org>0:\n",
    "        sum = sum+(org%10)*(org%10)*(org%10)\n",
    "        org = org//10\n",
    "    if i==sum:\n",
    "        print(i)\n",
    "    \n"
   ]
  },
  {
   "cell_type": "markdown",
   "metadata": {},
   "source": [
    "6. Write a Python Program to Find the Sum of Natural Numbers?"
   ]
  },
  {
   "cell_type": "code",
   "execution_count": 6,
   "metadata": {},
   "outputs": [
    {
     "name": "stdout",
     "output_type": "stream",
     "text": [
      "enter a number to get sum of natural number list:9\n",
      "sum of natural number: 45\n"
     ]
    }
   ],
   "source": [
    "num = int(input(\"enter a number to get sum of natural number list:\"))\n",
    "hold = num\n",
    "sum=0\n",
    "if num<=0:\n",
    "    print(\"enter positive number\")\n",
    "else:\n",
    "    while num>0:\n",
    "        sum=sum+num\n",
    "        num=num-1\n",
    "    print(\"sum of natural number:\",sum)"
   ]
  },
  {
   "cell_type": "code",
   "execution_count": null,
   "metadata": {},
   "outputs": [],
   "source": []
  }
 ],
 "metadata": {
  "kernelspec": {
   "display_name": "Python 3",
   "language": "python",
   "name": "python3"
  },
  "language_info": {
   "codemirror_mode": {
    "name": "ipython",
    "version": 3
   },
   "file_extension": ".py",
   "mimetype": "text/x-python",
   "name": "python",
   "nbconvert_exporter": "python",
   "pygments_lexer": "ipython3",
   "version": "3.8.5"
  }
 },
 "nbformat": 4,
 "nbformat_minor": 4
}
