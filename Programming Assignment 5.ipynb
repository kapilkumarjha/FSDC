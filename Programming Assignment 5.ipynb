{
 "cells": [
  {
   "cell_type": "markdown",
   "metadata": {},
   "source": [
    "1. Write a Python Program to Find LCM?"
   ]
  },
  {
   "cell_type": "code",
   "execution_count": 2,
   "metadata": {},
   "outputs": [
    {
     "name": "stdout",
     "output_type": "stream",
     "text": [
      "enter first number:2\n",
      "enter second number:3\n",
      "LCM of two number is: 6\n"
     ]
    }
   ],
   "source": [
    "def lcm(x,y):\n",
    "    if x>y:\n",
    "        greater=x\n",
    "    else:\n",
    "        greater=y\n",
    "    while(True):\n",
    "        if((greater %x==0) and (greater %y==0)):\n",
    "            lcm=greater\n",
    "            break\n",
    "        greater+=1\n",
    "    return lcm\n",
    "num1 = int(input(\"enter first number:\"))\n",
    "num2 = int(input(\"enter second number:\"))\n",
    "print(\"LCM of two number is:\",lcm(num1,num2))"
   ]
  },
  {
   "cell_type": "markdown",
   "metadata": {},
   "source": [
    "2. Write a Python Program to Find HCF?"
   ]
  },
  {
   "cell_type": "code",
   "execution_count": 6,
   "metadata": {},
   "outputs": [
    {
     "name": "stdout",
     "output_type": "stream",
     "text": [
      "enter first number:4\n",
      "enter second number:28\n",
      "HCF of two number is: 4\n"
     ]
    }
   ],
   "source": [
    "def hcf(x,y):\n",
    "    if x>y:\n",
    "        smaller=y\n",
    "    else:\n",
    "        smaller=x\n",
    "    for i in range(1,smaller+1):\n",
    "        if((x%i==0) and (y%i==0)):\n",
    "            hcf=i\n",
    "    return hcf\n",
    "\n",
    "num1 = int(input(\"enter first number:\"))\n",
    "num2 = int(input(\"enter second number:\"))\n",
    "print(\"HCF of two number is:\",hcf(num1,num2))\n"
   ]
  },
  {
   "cell_type": "markdown",
   "metadata": {},
   "source": [
    "3. Write a Python Program to Convert Decimal to Binary, Octal and Hexadecimal?"
   ]
  },
  {
   "cell_type": "code",
   "execution_count": 10,
   "metadata": {},
   "outputs": [
    {
     "name": "stdout",
     "output_type": "stream",
     "text": [
      "enter decimal number:14\n",
      "conversion dec to bin is: 0b1110\n",
      "conversion dec to oct is: 0o16\n",
      "conversion dec to hex is: 0xe\n"
     ]
    }
   ],
   "source": [
    "def dec_to_bin(decimal_num):\n",
    "    decimal=int(decimal_num)\n",
    "    \n",
    "    print(\"conversion dec to bin is:\",bin(decimal))\n",
    "\n",
    "def dec_to_octal(decimal_num):\n",
    "    decimal=int(decimal_num)\n",
    "    \n",
    "    print(\"conversion dec to oct is:\",oct(decimal))\n",
    "    \n",
    "def dec_to_hexadecimal(decimal_num):\n",
    "    decimal=int(decimal_num)\n",
    "    \n",
    "    print(\"conversion dec to hex is:\",hex(decimal))\n",
    "    \n",
    "decimal_num = int(input(\"enter decimal number:\"))\n",
    "dec_to_bin(decimal_num)\n",
    "dec_to_octal(decimal_num)\n",
    "dec_to_hexadecimal(decimal_num)\n",
    "\n",
    "    \n",
    "    "
   ]
  },
  {
   "cell_type": "markdown",
   "metadata": {},
   "source": [
    "4. Write a Python Program To Find ASCII value of a character?"
   ]
  },
  {
   "cell_type": "code",
   "execution_count": 22,
   "metadata": {},
   "outputs": [
    {
     "name": "stdout",
     "output_type": "stream",
     "text": [
      "enter the string:PYTHON\n",
      "P \t 80\n",
      "Y \t 89\n",
      "T \t 84\n",
      "H \t 72\n",
      "O \t 79\n",
      "N \t 78\n"
     ]
    }
   ],
   "source": [
    "string=input(\"enter the string:\")\n",
    "for i in string:\n",
    "    ASCII=ord(i)\n",
    "    print(i,\"\\t\",ASCII)\n",
    "\n"
   ]
  },
  {
   "cell_type": "markdown",
   "metadata": {},
   "source": [
    "5. Write a Python Program to Make a Simple Calculator with 4 basic mathematical operations?"
   ]
  },
  {
   "cell_type": "code",
   "execution_count": 31,
   "metadata": {},
   "outputs": [
    {
     "name": "stdout",
     "output_type": "stream",
     "text": [
      "enter first number:9\n",
      "select operator to perform calcultion: +,-,*,/:/\n",
      "enter second number:17\n",
      "the divide of two number is: 0.5294117647058824\n"
     ]
    }
   ],
   "source": [
    "num1 = int(input(\"enter first number:\"))\n",
    "oprtr = input(\"select operator to perform calcultion: +,-,*,/:\")\n",
    "if oprtr==\"+\" or oprtr==\"-\" or oprtr==\"*\" or oprtr==\"/\":\n",
    "    num2 = int(input(\"enter second number:\"))\n",
    "else:\n",
    "    print(\"wrong input,please select from the given operator\")\n",
    "\n",
    "if oprtr==\"+\":\n",
    "    print(\"the sum of two number is:\",num1+num2)\n",
    "elif oprtr==\"-\":\n",
    "    print(\"the subtraction of two number is:\",num1-num2)\n",
    "elif oprtr==\"*\":\n",
    "    print(\"the multiplication of two number is:\",num1*num2)\n",
    "elif oprtr==\"/\":\n",
    "    print(\"the divide of two number is:\",num1/num2)\n",
    "    \n",
    "    "
   ]
  },
  {
   "cell_type": "code",
   "execution_count": null,
   "metadata": {},
   "outputs": [],
   "source": []
  }
 ],
 "metadata": {
  "kernelspec": {
   "display_name": "Python 3",
   "language": "python",
   "name": "python3"
  },
  "language_info": {
   "codemirror_mode": {
    "name": "ipython",
    "version": 3
   },
   "file_extension": ".py",
   "mimetype": "text/x-python",
   "name": "python",
   "nbconvert_exporter": "python",
   "pygments_lexer": "ipython3",
   "version": "3.8.5"
  }
 },
 "nbformat": 4,
 "nbformat_minor": 4
}
