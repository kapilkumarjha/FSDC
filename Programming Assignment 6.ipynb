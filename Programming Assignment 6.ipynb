{
 "cells": [
  {
   "cell_type": "markdown",
   "id": "a76ee2fb",
   "metadata": {},
   "source": [
    "1. Write a Python Program to Display Fibonacci Sequence Using Recursion?"
   ]
  },
  {
   "cell_type": "code",
   "execution_count": 1,
   "id": "28efe726",
   "metadata": {},
   "outputs": [
    {
     "name": "stdout",
     "output_type": "stream",
     "text": [
      "Enter the nterm:4\n",
      "Fibonacci sequence:\n",
      "0\n",
      "1\n",
      "1\n",
      "2\n"
     ]
    }
   ],
   "source": [
    "def fibrec(n):  \n",
    "    if n<= 1:  \n",
    "        return n  \n",
    "    else:  \n",
    "        return(fibrec(n-1) + fibrec(n-2))  \n",
    "\n",
    "num = int(input(\"Enter the nterm:\")) \n",
    "\n",
    "if num <= 0:  \n",
    "    print(\"Please enter a positive integer\")  \n",
    "else:  \n",
    "    print(\"Fibonacci sequence:\")  \n",
    "    for i in range(num):  \n",
    "        print(fibrec(i))\n"
   ]
  },
  {
   "cell_type": "markdown",
   "id": "5574422e",
   "metadata": {},
   "source": [
    "2. Write a Python Program to Find Factorial of Number Using Recursion?"
   ]
  },
  {
   "cell_type": "code",
   "execution_count": 2,
   "id": "106f97b8",
   "metadata": {},
   "outputs": [
    {
     "name": "stdout",
     "output_type": "stream",
     "text": [
      "enter a number:5\n",
      "the factorial of given num is: 120\n"
     ]
    }
   ],
   "source": [
    "num = int(input(\"enter a number:\"))\n",
    "def factrec(num):\n",
    "    if num==1:\n",
    "        return 1\n",
    "    else:\n",
    "        return num*factrec(num-1)\n",
    "if num<0:\n",
    "    print(\"enter positive number\")\n",
    "elif num==0:\n",
    "    print(\"factorial of Zero is 1\")\n",
    "else:\n",
    "    print(\"the factorial of given num is:\",factrec(num))"
   ]
  },
  {
   "cell_type": "markdown",
   "id": "dff42f85",
   "metadata": {},
   "source": [
    "3. Write a Python Program to calculate your Body Mass Index?"
   ]
  },
  {
   "cell_type": "code",
   "execution_count": 3,
   "id": "17fff92d",
   "metadata": {},
   "outputs": [
    {
     "name": "stdout",
     "output_type": "stream",
     "text": [
      "enter the weight of person in kg:45\n",
      "enter the height of person meter:165\n",
      "The BMI is: 0.001652892561983471\n",
      "under weight\n"
     ]
    }
   ],
   "source": [
    "weight = int(input(\"enter the weight of person in kg:\"))\n",
    "height = int(input(\"enter the height of person meter:\"))\n",
    "def BMI(weight,height):\n",
    "        bmi = (weight/(height**2))\n",
    "        return bmi\n",
    "\n",
    "body_mass = BMI(weight,height)\n",
    "print(\"The BMI is:\",format(body_mass))\n",
    "\n",
    "if body_mass<10:\n",
    "    print(\"under weight\")\n",
    "elif body_mass>=10 and body_mass<15:\n",
    "    print(\"healthy\")\n",
    "elif body_mass>=15 and body_mass<20:\n",
    "    print(\"overweight\")\n",
    "elif body_mass>=25:\n",
    "    print(\"suffering from obesity\")\n"
   ]
  },
  {
   "cell_type": "markdown",
   "id": "d34a14dd",
   "metadata": {},
   "source": [
    "4. Write a Python Program to calculate the natural logarithm of any number?"
   ]
  },
  {
   "cell_type": "code",
   "execution_count": 4,
   "id": "ecff0963",
   "metadata": {},
   "outputs": [
    {
     "name": "stdout",
     "output_type": "stream",
     "text": [
      "enter a number:14\n",
      "Natural logarithm of {14} number is : 2.6390573296152584\n"
     ]
    }
   ],
   "source": [
    "import math\n",
    "num = int(input(\"enter a number:\"))\n",
    "def natural_log_num(num):# for find base->>(num,base) pass in argument\n",
    "    if num<=0:\n",
    "        return(\"enter positive number\")\n",
    "    else:\n",
    "        return math.log(num) \n",
    "\n",
    "print(\"Natural logarithm of\", {num},\"number is :\",natural_log_num(num))\n"
   ]
  },
  {
   "cell_type": "markdown",
   "id": "b4226585",
   "metadata": {},
   "source": [
    "5. Write a Python Program for cube sum of first n natural numbers?"
   ]
  },
  {
   "cell_type": "code",
   "execution_count": 13,
   "id": "121795c9",
   "metadata": {},
   "outputs": [
    {
     "name": "stdout",
     "output_type": "stream",
     "text": [
      "enter a number for cube sum of first n natural numbers:2\n",
      "9\n"
     ]
    }
   ],
   "source": [
    "num = int(input(\"enter a number for cube sum of first n natural numbers:\"))\n",
    "\n",
    "def cube_sum_natural(num):\n",
    "    while num>0:\n",
    "        sum = 0\n",
    "        for i in range(1,num+1):\n",
    "            sum = sum +(i*i*i)\n",
    "            i = i+1\n",
    "        return sum\n",
    "    else:\n",
    "        return \"enter positive number\"\n",
    "\n",
    "\n",
    "print(cube_sum_natural(num))"
   ]
  },
  {
   "cell_type": "code",
   "execution_count": null,
   "id": "b3be6f4b",
   "metadata": {},
   "outputs": [],
   "source": []
  },
  {
   "cell_type": "code",
   "execution_count": null,
   "id": "d57d736d",
   "metadata": {},
   "outputs": [],
   "source": []
  },
  {
   "cell_type": "code",
   "execution_count": null,
   "id": "f84fc4e4",
   "metadata": {},
   "outputs": [],
   "source": []
  },
  {
   "cell_type": "code",
   "execution_count": null,
   "id": "2585f1bd",
   "metadata": {},
   "outputs": [],
   "source": []
  },
  {
   "cell_type": "code",
   "execution_count": null,
   "id": "e1e5aa28",
   "metadata": {},
   "outputs": [],
   "source": []
  },
  {
   "cell_type": "code",
   "execution_count": null,
   "id": "a872fe13",
   "metadata": {},
   "outputs": [],
   "source": []
  }
 ],
 "metadata": {
  "kernelspec": {
   "display_name": "Python 3 (ipykernel)",
   "language": "python",
   "name": "python3"
  },
  "language_info": {
   "codemirror_mode": {
    "name": "ipython",
    "version": 3
   },
   "file_extension": ".py",
   "mimetype": "text/x-python",
   "name": "python",
   "nbconvert_exporter": "python",
   "pygments_lexer": "ipython3",
   "version": "3.7.1"
  }
 },
 "nbformat": 4,
 "nbformat_minor": 5
}
