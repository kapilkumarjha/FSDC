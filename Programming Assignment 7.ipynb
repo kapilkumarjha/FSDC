{
 "cells": [
  {
   "cell_type": "markdown",
   "id": "3af14d3a",
   "metadata": {},
   "source": [
    "1. Write a Python Program to find sum of array?"
   ]
  },
  {
   "cell_type": "code",
   "execution_count": 1,
   "id": "2bdd0707",
   "metadata": {},
   "outputs": [
    {
     "name": "stdout",
     "output_type": "stream",
     "text": [
      "enter size of array:4\n",
      "enter elements of array:1\n",
      "enter elements of array:2\n",
      "enter elements of array:3\n",
      "enter elements of array:4\n",
      "sum of elements in array is: 10\n"
     ]
    }
   ],
   "source": [
    "def sum_array(array,size):\n",
    "    sum = 0\n",
    "    for i in array:\n",
    "        sum = sum + i\n",
    "    return sum\n",
    "\n",
    "\n",
    "size = int(input(\"enter size of array:\"))\n",
    "array = []\n",
    "\n",
    "for i in range(size):\n",
    "    num = int(input(\"enter elements of array:\"))\n",
    "    array.append(num)\n",
    "\n",
    "print(\"sum of elements in array is:\", sum_array(array, size))\n"
   ]
  },
  {
   "cell_type": "markdown",
   "id": "9dd21243",
   "metadata": {},
   "source": [
    "2. Write a Python Program to find largest element in an array?"
   ]
  },
  {
   "cell_type": "code",
   "execution_count": 49,
   "id": "7d1a39a2",
   "metadata": {},
   "outputs": [
    {
     "name": "stdout",
     "output_type": "stream",
     "text": [
      "enter size of array:4\n",
      "enter elements of array:12\n",
      "enter elements of array:200\n",
      "enter elements of array:2\n",
      "enter elements of array:45\n",
      "largest elements in array is: 200\n"
     ]
    }
   ],
   "source": [
    "def large(array,size):\n",
    "    max = array[0]\n",
    "    for i in range(len(array)):\n",
    "        if array[i]>max:\n",
    "            max = array[i]\n",
    "    return max\n",
    "\n",
    "size = int(input(\"enter size of array:\"))\n",
    "array = []\n",
    "\n",
    "for i in range(size):\n",
    "    num  = int(input(\"enter elements of array:\"))\n",
    "    array.append(num)\n",
    "\n",
    "print(\"largest elements in array is:\",large(array,size))\n"
   ]
  },
  {
   "cell_type": "markdown",
   "id": "a5b5d62c",
   "metadata": {},
   "source": [
    "3. Write a Python Program for array rotation?"
   ]
  },
  {
   "cell_type": "code",
   "execution_count": 3,
   "id": "59978b2c",
   "metadata": {},
   "outputs": [
    {
     "name": "stdout",
     "output_type": "stream",
     "text": [
      "enter the size of array:5\n",
      "enter elements of array:1\n",
      "enter elements of array:2\n",
      "enter elements of array:3\n",
      "enter elements of array:4\n",
      "enter elements of array:5\n",
      "the original array is: [1, 2, 3, 4, 5]\n",
      "after rotation,the array is: [2, 3, 4, 5, 1]\n"
     ]
    }
   ],
   "source": [
    "def array_rotation(arr,size):\n",
    "    temp = arr[0]\n",
    "    for i in range(1,size):\n",
    "        arr[i-1] = arr[i] \n",
    "    arr[size-1] = temp\n",
    "    return arr\n",
    "\n",
    "\n",
    "arr = []\n",
    "size = int(input(\"enter the size of array:\"))\n",
    "for i in range(size):\n",
    "    value = int(input(\"enter elements of array:\"))\n",
    "    arr.append(value)\n",
    "print(\"the original array is:\",arr)\n",
    "\n",
    "print(\"after rotation,the array is:\",array_rotation(arr,size))\n"
   ]
  },
  {
   "cell_type": "markdown",
   "id": "db0616e6",
   "metadata": {},
   "source": [
    "4. Write a Python Program to Split the array and add the first part to the end?"
   ]
  },
  {
   "cell_type": "code",
   "execution_count": 4,
   "id": "d723c94f",
   "metadata": {},
   "outputs": [
    {
     "name": "stdout",
     "output_type": "stream",
     "text": [
      "enter size of array:5\n",
      "enter the elements:1\n",
      "enter the elements:2\n",
      "enter the elements:3\n",
      "enter the elements:4\n",
      "enter the elements:5\n",
      "The original array is: [1, 2, 3, 4, 5]\n",
      "after split, the array is [3, 4, 5, 1, 2]\n"
     ]
    }
   ],
   "source": [
    "def splitarr(arr,size,position):\n",
    "    for i in range(0,position):\n",
    "        temp = arr[0]\n",
    "        for j in range(0,size-1):\n",
    "            arr[j] = arr[j+1]\n",
    "        arr[size-1] = temp\n",
    "    return arr\n",
    "\n",
    "arr = []\n",
    "position = 2\n",
    "size = int(input(\"enter size of array:\"))\n",
    "for i in range(0,size):\n",
    "    value = int(input(\"enter the elements:\"))\n",
    "    arr.append(value)\n",
    "print(\"The original array is:\",arr)\n",
    "print(\"after split, the array is\",splitarr(arr,size,position))\n"
   ]
  },
  {
   "cell_type": "markdown",
   "id": "60c4f7e4",
   "metadata": {},
   "source": [
    "5. Write a Python Program to check if given array is Monotonic?"
   ]
  },
  {
   "cell_type": "code",
   "execution_count": 48,
   "id": "29f239a9",
   "metadata": {},
   "outputs": [
    {
     "name": "stdout",
     "output_type": "stream",
     "text": [
      "enter the size of array:4\n",
      "enter the number in empty array1\n",
      "[1]\n",
      "enter the number in empty array2\n",
      "[1, 2]\n",
      "enter the number in empty array3\n",
      "[1, 2, 3]\n",
      "enter the number in empty array4\n",
      "[1, 2, 3, 4]\n",
      "is_monotonic:- True\n"
     ]
    }
   ],
   "source": [
    "def is_monotonic(array,size):\n",
    "    return (all(array[i] <= array[i + 1] for i in range(size-1)) or\n",
    "            all(array[i] >= array[i + 1] for i in range(size-1)))\n",
    "\n",
    "array = []\n",
    "size = int(input(\"enter the size of array:\"))\n",
    "for i in range(size):\n",
    "    value = int(input(\"enter the number in empty array\"))\n",
    "    array.append(value)\n",
    "    print(array)\n",
    "\n",
    "print(\"is_monotonic:-\",is_monotonic(array,size))"
   ]
  },
  {
   "cell_type": "code",
   "execution_count": null,
   "id": "af86ca3e",
   "metadata": {},
   "outputs": [],
   "source": []
  },
  {
   "cell_type": "code",
   "execution_count": null,
   "id": "966d1750",
   "metadata": {},
   "outputs": [],
   "source": []
  },
  {
   "cell_type": "code",
   "execution_count": null,
   "id": "c595a3a7",
   "metadata": {},
   "outputs": [],
   "source": []
  },
  {
   "cell_type": "code",
   "execution_count": null,
   "id": "d27d9c3e",
   "metadata": {},
   "outputs": [],
   "source": []
  },
  {
   "cell_type": "code",
   "execution_count": null,
   "id": "62bb4f8c",
   "metadata": {},
   "outputs": [],
   "source": []
  },
  {
   "cell_type": "code",
   "execution_count": null,
   "id": "7fa00ca2",
   "metadata": {},
   "outputs": [],
   "source": []
  },
  {
   "cell_type": "code",
   "execution_count": null,
   "id": "1ba07606",
   "metadata": {},
   "outputs": [],
   "source": []
  }
 ],
 "metadata": {
  "kernelspec": {
   "display_name": "Python 3 (ipykernel)",
   "language": "python",
   "name": "python3"
  },
  "language_info": {
   "codemirror_mode": {
    "name": "ipython",
    "version": 3
   },
   "file_extension": ".py",
   "mimetype": "text/x-python",
   "name": "python",
   "nbconvert_exporter": "python",
   "pygments_lexer": "ipython3",
   "version": "3.7.1"
  }
 },
 "nbformat": 4,
 "nbformat_minor": 5
}
