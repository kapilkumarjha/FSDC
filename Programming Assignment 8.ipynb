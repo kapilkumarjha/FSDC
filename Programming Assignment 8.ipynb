{
 "cells": [
  {
   "cell_type": "markdown",
   "id": "4558833e",
   "metadata": {},
   "source": [
    "1. Write a Python Program to Add Two Matrices?"
   ]
  },
  {
   "cell_type": "code",
   "execution_count": 23,
   "id": "30dd925a",
   "metadata": {},
   "outputs": [
    {
     "name": "stdout",
     "output_type": "stream",
     "text": [
      "enter the number of rows:3\n",
      "enter the number of col:3\n",
      "[]\n",
      "enter number for X-matrix:12\n",
      "enter number for X-matrix:7\n",
      "enter number for X-matrix:3\n",
      "[]\n",
      "enter number for X-matrix:4\n",
      "enter number for X-matrix:5\n",
      "enter number for X-matrix:6\n",
      "[]\n",
      "enter number for X-matrix:7\n",
      "enter number for X-matrix:8\n",
      "enter number for X-matrix:9\n",
      "[[12, 7, 3], [4, 5, 6], [7, 8, 9]]\n",
      "show X in the form-->Matrix\n",
      "1273\n",
      "456\n",
      "789\n",
      "[]\n",
      "enter number for Y-matrix:5\n",
      "enter number for Y-matrix:8\n",
      "enter number for Y-matrix:1\n",
      "[]\n",
      "enter number for Y-matrix:6\n",
      "enter number for Y-matrix:7\n",
      "enter number for Y-matrix:3\n",
      "[]\n",
      "enter number for Y-matrix:4\n",
      "enter number for Y-matrix:5\n",
      "enter number for Y-matrix:9\n",
      "[[5, 8, 1], [6, 7, 3], [4, 5, 9]]\n",
      "show Y in the form-->Matrix\n",
      "581\n",
      "673\n",
      "459\n",
      "The Resultant Matrix is:\n",
      "[17, 15, 4]\n",
      "[10, 12, 9]\n",
      "[11, 13, 18]\n"
     ]
    }
   ],
   "source": [
    "row = int(input(\"enter the number of rows:\"))\n",
    "col = int(input(\"enter the number of col:\"))\n",
    "X = []\n",
    "for i in range(row):\n",
    "    m1 = []\n",
    "    print(m1)\n",
    "    for j in range(col):\n",
    "        m1.append(int(input(\"enter number for X-matrix:\")))\n",
    "    X.append(m1)\n",
    "print(X)\n",
    "\n",
    "print(\"show X in the form-->Matrix\")\n",
    "for i in range(row):\n",
    "    for j in range(col):\n",
    "        print(X[i][j],end = '')\n",
    "    print()\n",
    "    \n",
    "Y = []\n",
    "for i in range(row):\n",
    "    m2 = []\n",
    "    print(m2)\n",
    "    for j in range(col):\n",
    "        m2.append(int(input(\"enter number for Y-matrix:\")))\n",
    "    Y.append(m2)\n",
    "print(Y)\n",
    "\n",
    "print(\"show Y in the form-->Matrix\")\n",
    "for i in range(row):\n",
    "    for j in range(col):\n",
    "        print(Y[i][j],end = '')\n",
    "    print()\n",
    "\n",
    "# iterate through rows of X\n",
    "for i in range(len(X)):\n",
    "    # iterate through columns of Y\n",
    "    for j in range(len(X[0])):\n",
    "            result[i][j]= X[i][j] + Y[i][j]\n",
    "            #print(result)\n",
    "\n",
    "print(\"The Resultant Matrix is:\")\n",
    "for r in result:\n",
    "    print(r)           \n",
    "        \n",
    "    "
   ]
  },
  {
   "cell_type": "markdown",
   "id": "da493957",
   "metadata": {},
   "source": [
    "2. Write a Python Program to Multiply Two Matrices?"
   ]
  },
  {
   "cell_type": "code",
   "execution_count": 28,
   "id": "6aa2b5ad",
   "metadata": {},
   "outputs": [
    {
     "name": "stdout",
     "output_type": "stream",
     "text": [
      "How many row you want in matrix,Enter the number:3\n",
      "How many column you want in matrix,Enter the number:3\n",
      "enter number for X-Matrix:5\n",
      "enter number for X-Matrix:4\n",
      "enter number for X-Matrix:3\n",
      "enter number for X-Matrix:2\n",
      "enter number for X-Matrix:4\n",
      "enter number for X-Matrix:6\n",
      "enter number for X-Matrix:4\n",
      "enter number for X-Matrix:7\n",
      "enter number for X-Matrix:9\n",
      "[[5, 4, 3], [2, 4, 6], [4, 7, 9]]\n",
      "show X in the form-->Matrix\n",
      "5 4 3 \n",
      "2 4 6 \n",
      "4 7 9 \n",
      "enter number for Y-Matrix:3\n",
      "enter number for Y-Matrix:2\n",
      "enter number for Y-Matrix:4\n",
      "enter number for Y-Matrix:4\n",
      "enter number for Y-Matrix:3\n",
      "enter number for Y-Matrix:6\n",
      "enter number for Y-Matrix:2\n",
      "enter number for Y-Matrix:7\n",
      "enter number for Y-Matrix:5\n",
      "[[3, 2, 4], [4, 3, 6], [2, 7, 5]]\n",
      "show Y in the form-->Matrix\n",
      "3 2 4 \n",
      "4 3 6 \n",
      "2 7 5 \n",
      "The Resultant Matrix is:\n",
      "[37, 43, 59]\n",
      "[34, 58, 62]\n",
      "[58, 92, 103]\n"
     ]
    }
   ],
   "source": [
    "row=int(input(\"How many row you want in matrix,Enter the number:\"))\n",
    "col=int(input(\"How many column you want in matrix,Enter the number:\"))\n",
    "X=[]\n",
    "for i in range (row):\n",
    "    m1=[]\n",
    "    for j in range (col):\n",
    "        m1.append(int(input(\"enter number for X-Matrix:\")))\n",
    "    X.append(m1)\n",
    "print(X)\n",
    "\n",
    "print(\"show X in the form-->Matrix\")\n",
    "for i in range(row):\n",
    "    for j in range(col):\n",
    "        print(X[i][j], end=\" \")\n",
    "    print()        \n",
    "\n",
    "Y=[]\n",
    "for i in range (row):\n",
    "    m1=[]\n",
    "    for j in range (col):\n",
    "        m1.append(int(input(\"enter number for Y-Matrix:\")))\n",
    "    Y.append(m1)\n",
    "print(Y)\n",
    "\n",
    "print(\"show Y in the form-->Matrix\")\n",
    "for i in range(row):\n",
    "    for j in range(col):\n",
    "        print(Y[i][j], end=\" \")\n",
    "    print()  \n",
    "\n",
    "result = [[0,0,0],\n",
    "         [0,0,0],\n",
    "         [0,0,0]]\n",
    "\n",
    "# iterate through rows of X\n",
    "for i in range(len(X)):\n",
    "   # iterate through columns of Y\n",
    "   for j in range(len(Y[0])):\n",
    "       # iterate through rows of Y\n",
    "       for k in range(len(Y)):\n",
    "            result[i][j] += X[i][k] * Y[k][j]\n",
    "\n",
    "print(\"The Resultant Matrix is:\")\n",
    "for r in result:\n",
    "    print(r)\n"
   ]
  },
  {
   "cell_type": "markdown",
   "id": "677f829d",
   "metadata": {},
   "source": [
    "3. Write a Python Program to Transpose a Matrix?"
   ]
  },
  {
   "cell_type": "code",
   "execution_count": 14,
   "id": "739074ae",
   "metadata": {},
   "outputs": [
    {
     "name": "stdout",
     "output_type": "stream",
     "text": [
      "[12, 4, 3]\n",
      "[7, 5, 8]\n"
     ]
    }
   ],
   "source": [
    "X = [[12,7],\n",
    "    [4 ,5],\n",
    "    [3 ,8]]\n",
    "\n",
    "result = [[0,0,0],\n",
    "         [0,0,0]]\n",
    "\n",
    "# iterate through rows\n",
    "for i in range(len(X)):\n",
    "   # iterate through columns\n",
    "   for j in range(len(X[0])):\n",
    "        result[j][i] = X[i][j]\n",
    "\n",
    "for r in result:\n",
    "    print(r)"
   ]
  },
  {
   "cell_type": "markdown",
   "id": "ffbdec4d",
   "metadata": {},
   "source": [
    "4. Write a Python Program to Sort Words in Alphabetic Order?"
   ]
  },
  {
   "cell_type": "code",
   "execution_count": 103,
   "id": "0329900a",
   "metadata": {},
   "outputs": [
    {
     "name": "stdout",
     "output_type": "stream",
     "text": [
      "enter the string:HE IS GOOD\n",
      "firstly,we convert string in lower after that in spilt: ['he', 'is', 'good']\n",
      "arrange string in alphabet order: ['good', 'he', 'is']\n",
      "('convert list into string:', 'good he is')\n"
     ]
    }
   ],
   "source": [
    "str = input(\"enter the string:\")\n",
    "def sort_words_alph(str):\n",
    "    words = str.lower().split()\n",
    "    print(\"firstly,we convert string in lower after that in spilt:\",words)\n",
    "    words.sort()\n",
    "    print(\"arrange string in alphabet order:\",words)\n",
    "    cnvrt_in_str = ' '.join(words)\n",
    "    return (\"convert list into string:\",cnvrt_in_str)\n",
    "\n",
    "print(sort_words_alph(str))\n",
    "  "
   ]
  },
  {
   "cell_type": "markdown",
   "id": "d843d9ba",
   "metadata": {},
   "source": [
    "5. Write a Python Program to Remove Punctuation From a String?"
   ]
  },
  {
   "cell_type": "code",
   "execution_count": 1,
   "id": "3650481b",
   "metadata": {},
   "outputs": [
    {
     "name": "stdout",
     "output_type": "stream",
     "text": [
      "Enter the string:Hello!!!, he said --->RRR, is best.\n",
      "The original string is: Hello!!!, he said --->RRR, is best.\n",
      "The string, after punctuation filter: Hello he said RRR is best\n"
     ]
    }
   ],
   "source": [
    "str = input(\"Enter the string:\")\n",
    "print(\"The original string is:\",str)\n",
    "punctuation = '''!()-[]{};:'\"\\,<>./?@#$%^&*_~'''\n",
    "\n",
    "def rmv_punctuation(str):\n",
    "    for spcl_char in str:\n",
    "        if spcl_char in punctuation:\n",
    "            str = str.replace(spcl_char,\"\")\n",
    "    return str\n",
    "        \n",
    "print(\"The string, after punctuation filter:\",rmv_punctuation(str))"
   ]
  },
  {
   "cell_type": "code",
   "execution_count": null,
   "id": "ba8a8221",
   "metadata": {},
   "outputs": [],
   "source": []
  },
  {
   "cell_type": "code",
   "execution_count": null,
   "id": "5da29cbb",
   "metadata": {},
   "outputs": [],
   "source": []
  },
  {
   "cell_type": "code",
   "execution_count": null,
   "id": "e681d087",
   "metadata": {},
   "outputs": [],
   "source": []
  },
  {
   "cell_type": "code",
   "execution_count": null,
   "id": "4080d786",
   "metadata": {},
   "outputs": [],
   "source": []
  },
  {
   "cell_type": "code",
   "execution_count": null,
   "id": "a65cbb09",
   "metadata": {},
   "outputs": [],
   "source": []
  },
  {
   "cell_type": "code",
   "execution_count": null,
   "id": "b63ec31a",
   "metadata": {},
   "outputs": [],
   "source": []
  }
 ],
 "metadata": {
  "kernelspec": {
   "display_name": "Python 3 (ipykernel)",
   "language": "python",
   "name": "python3"
  },
  "language_info": {
   "codemirror_mode": {
    "name": "ipython",
    "version": 3
   },
   "file_extension": ".py",
   "mimetype": "text/x-python",
   "name": "python",
   "nbconvert_exporter": "python",
   "pygments_lexer": "ipython3",
   "version": "3.7.1"
  }
 },
 "nbformat": 4,
 "nbformat_minor": 5
}
