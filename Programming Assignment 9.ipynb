{
 "cells": [
  {
   "cell_type": "markdown",
   "id": "5d098c71",
   "metadata": {},
   "source": [
    "1. Write a Python program to check if the given number is a Disarium Number?"
   ]
  },
  {
   "cell_type": "code",
   "execution_count": 16,
   "id": "3c5e08d7",
   "metadata": {},
   "outputs": [
    {
     "name": "stdout",
     "output_type": "stream",
     "text": [
      "enter the number:135\n",
      " Is number disarium: True\n"
     ]
    }
   ],
   "source": [
    "def is_disarium(num):\n",
    "    temp = 0\n",
    "    for i in range(len(str(num))):\n",
    "        temp += int(str(num)[i]) ** (i + 1)\n",
    "    return temp == num\n",
    "\n",
    "num = int(input(\"enter the number:\"))\n",
    "print(\" Is number disarium:\", is_disarium(num))\n",
    "    "
   ]
  },
  {
   "cell_type": "markdown",
   "id": "76c9bb67",
   "metadata": {},
   "source": [
    "2. Write a Python program to print all disarium numbers between 1 to 100?"
   ]
  },
  {
   "cell_type": "code",
   "execution_count": 3,
   "id": "24a582cb",
   "metadata": {},
   "outputs": [
    {
     "name": "stdout",
     "output_type": "stream",
     "text": [
      "ENTER LOWEST NUMBER : 1\n",
      "ENTER HIGHEST NUMBER : 100\n",
      "DISARIUM NUMBERS WITHIN RANGE(1,100) ARE -\n",
      "1 2 3 4 5 6 7 8 9 89 "
     ]
    }
   ],
   "source": [
    "def check_disarium(number):    \n",
    "    no_digits = 0\n",
    "    num = number  \n",
    "    while(num != 0):\n",
    "        no_digits = no_digits + 1\n",
    "        num = num//10\n",
    "\n",
    "    remainder = 0\n",
    "    disarium_num = 0    \n",
    "    while(number > 0):\n",
    "        remainder = number % 10\n",
    "        disarium_num = disarium_num + (remainder**no_digits)\n",
    "        number = number//10\n",
    "        no_digits = no_digits - 1\n",
    "    return disarium_num\n",
    "\n",
    "lower = int(input(\"ENTER LOWEST NUMBER : \"))\n",
    "upper = int(input(\"ENTER HIGHEST NUMBER : \"))\n",
    "print(\"DISARIUM NUMBERS WITHIN RANGE({},{}) ARE -\".format(lower,upper))\n",
    "for i in range(lower,upper+1):    \n",
    "    if check_disarium(i) == i:\n",
    "        print(i,end=\" \")"
   ]
  },
  {
   "cell_type": "markdown",
   "id": "c781c2a5",
   "metadata": {},
   "source": [
    "3. Write a Python program to check if the given number is Happy Number?"
   ]
  },
  {
   "cell_type": "code",
   "execution_count": 17,
   "id": "d65eb68d",
   "metadata": {},
   "outputs": [
    {
     "name": "stdout",
     "output_type": "stream",
     "text": [
      "Enter a number: 49\n",
      "49  is a Happy Number\n"
     ]
    }
   ],
   "source": [
    "def isHappyNumber(n):    \n",
    "    digit = sum = 0    \n",
    "    while(n > 0):    \n",
    "        digit = n % 10 \n",
    "        sum = sum + (digit * digit)    \n",
    "        n = n // 10   \n",
    "    return sum    \n",
    "        \n",
    "num = int(input(\"Enter a number: \"))    \n",
    "result = num    \n",
    "     \n",
    "while(result != 1 and result != 4):    \n",
    "    result = isHappyNumber(result)   \n",
    "     \n",
    "if(result == 1):    \n",
    "    print(num, \" is a Happy Number\")   \n",
    "else:    \n",
    "    print(num, \" is an Unhappy Number\")"
   ]
  },
  {
   "cell_type": "markdown",
   "id": "404aa344",
   "metadata": {},
   "source": [
    "4. Write a Python program to print all happy numbers between 1 and 100?"
   ]
  },
  {
   "cell_type": "code",
   "execution_count": 5,
   "id": "2872b60f",
   "metadata": {},
   "outputs": [
    {
     "name": "stdout",
     "output_type": "stream",
     "text": [
      "ENTER LOWEST VALUE : 1\n",
      "ENTER HIGHEST VALUE : 100\n",
      "HAPPY NUMBERS WITHIN RANGE(1,100) ARE -\n",
      "1 7 10 13 19 23 28 31 32 44 49 68 70 79 82 86 91 94 97 100 "
     ]
    }
   ],
   "source": [
    "def check_happy(number):\n",
    "    remainder = 0\n",
    "    happy_num = 0;    \n",
    "    while(number > 0):    \n",
    "        remainder = number%10;    \n",
    "        happy_num = happy_num + (remainder*remainder);    \n",
    "        number = number//10;\n",
    "    return happy_num;\n",
    "\n",
    "lower = int(input(\"ENTER LOWEST VALUE : \"))\n",
    "upper = int(input(\"ENTER HIGHEST VALUE : \"))\n",
    "print(\"HAPPY NUMBERS WITHIN RANGE({},{}) ARE -\".format(lower,upper))\n",
    "for i in range(lower,upper+1):\n",
    "    happy_num = i\n",
    "    while(happy_num != 1 and happy_num != 4):\n",
    "        happy_num = check_happy(happy_num)\n",
    "    if(happy_num == 1):\n",
    "        print(i,end=\" \")"
   ]
  },
  {
   "cell_type": "markdown",
   "id": "1bd42656",
   "metadata": {},
   "source": [
    "5. Write a Python program to determine whether the given number is a Harshad Number?"
   ]
  },
  {
   "cell_type": "code",
   "execution_count": 14,
   "id": "fc635b23",
   "metadata": {},
   "outputs": [
    {
     "name": "stdout",
     "output_type": "stream",
     "text": [
      "ENTER THE NUMBER : 156\n",
      "IS NUMBER HARSHAD: Yes\n"
     ]
    }
   ],
   "source": [
    "def checkHarshad(n):\n",
    "    st = str(n)\n",
    "    sum = 0\n",
    "    length = len(st)\n",
    "\n",
    "    for i in st:\n",
    "        sum = sum + int(i)\n",
    "    \n",
    "    if (n % sum == 0):\n",
    "        return \"Yes\"\n",
    "    else:\n",
    "        return \"No\"\n",
    "\n",
    "number = int(input(\"ENTER THE NUMBER : \"))\n",
    "print(\"IS NUMBER HARSHAD:\",checkHarshad(number))"
   ]
  },
  {
   "cell_type": "markdown",
   "id": "ba4e51ad",
   "metadata": {},
   "source": [
    "6. Write a Python program to print all pronic numbers between 1 and 100?"
   ]
  },
  {
   "cell_type": "code",
   "execution_count": 15,
   "id": "376ff39d",
   "metadata": {},
   "outputs": [
    {
     "name": "stdout",
     "output_type": "stream",
     "text": [
      "Enter the Minimum Number = 1\n",
      "Enter the Maximum Number = 100\n",
      "\n",
      "The List of Pronic Numbers from 1 and 100\n",
      "2   6   12   20   30   42   56   72   90   "
     ]
    }
   ],
   "source": [
    "def checkPronic(Number):\n",
    "    i = 0\n",
    "    flag = 0\n",
    "    while i <= Number:\n",
    "        if Number == i * (i + 1):\n",
    "            flag = 1\n",
    "            break\n",
    "        i = i + 1\n",
    "    return flag\n",
    "\n",
    "minPro = int(input(\"Enter the Minimum Number = \"))\n",
    "maxPro = int(input(\"Enter the Maximum Number = \"))\n",
    "\n",
    "print(\"\\nThe List of Pronic Numbers from {0} and {1}\".format(minPro, maxPro)) \n",
    "for i in range(minPro, maxPro):\n",
    "    if(checkPronic(i) == 1):\n",
    "        print(i, end = '   ')"
   ]
  },
  {
   "cell_type": "code",
   "execution_count": null,
   "id": "61b3961a",
   "metadata": {},
   "outputs": [],
   "source": []
  },
  {
   "cell_type": "code",
   "execution_count": null,
   "id": "1c8616b6",
   "metadata": {},
   "outputs": [],
   "source": []
  },
  {
   "cell_type": "code",
   "execution_count": null,
   "id": "9149a0d5",
   "metadata": {},
   "outputs": [],
   "source": []
  },
  {
   "cell_type": "code",
   "execution_count": null,
   "id": "4973a7c2",
   "metadata": {},
   "outputs": [],
   "source": []
  },
  {
   "cell_type": "code",
   "execution_count": null,
   "id": "99b177d0",
   "metadata": {},
   "outputs": [],
   "source": []
  },
  {
   "cell_type": "code",
   "execution_count": null,
   "id": "8a3cfaff",
   "metadata": {},
   "outputs": [],
   "source": []
  },
  {
   "cell_type": "code",
   "execution_count": null,
   "id": "97c74c16",
   "metadata": {},
   "outputs": [],
   "source": []
  },
  {
   "cell_type": "code",
   "execution_count": null,
   "id": "529ec4da",
   "metadata": {},
   "outputs": [],
   "source": []
  }
 ],
 "metadata": {
  "kernelspec": {
   "display_name": "Python 3 (ipykernel)",
   "language": "python",
   "name": "python3"
  },
  "language_info": {
   "codemirror_mode": {
    "name": "ipython",
    "version": 3
   },
   "file_extension": ".py",
   "mimetype": "text/x-python",
   "name": "python",
   "nbconvert_exporter": "python",
   "pygments_lexer": "ipython3",
   "version": "3.7.1"
  }
 },
 "nbformat": 4,
 "nbformat_minor": 5
}
